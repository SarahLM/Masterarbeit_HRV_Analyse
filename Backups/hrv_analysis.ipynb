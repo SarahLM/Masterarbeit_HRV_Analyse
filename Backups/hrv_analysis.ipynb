{
 "cells": [
  {
   "cell_type": "markdown",
   "id": "8be69f5e",
   "metadata": {
    "scrolled": false
   },
   "source": [
    "# imports"
   ]
  },
  {
   "cell_type": "code",
   "execution_count": 1,
   "id": "a827de22",
   "metadata": {},
   "outputs": [],
   "source": [
    "%load_ext autoreload"
   ]
  },
  {
   "cell_type": "code",
   "execution_count": 2,
   "id": "c427a263",
   "metadata": {},
   "outputs": [],
   "source": [
    "%autoreload 2"
   ]
  },
  {
   "cell_type": "code",
   "execution_count": 3,
   "id": "b9211420",
   "metadata": {},
   "outputs": [],
   "source": [
    "import pandas as pd\n",
    "import csv\n",
    "#import pyedflib\n",
    "import heartbeat as hb\n",
    "import preparation_hypno as preph\n",
    "import preparation_edf as prepedf\n",
    "import neurokit2 as nk\n",
    "import matplotlib.pyplot as plt\n",
    "from edfrd import read_header, read_data_records\n",
    "from datetime import time\n",
    "from datetime import datetime\n",
    "from datetime import date\n",
    "from datetime import timedelta\n",
    "import edfrd\n",
    "from neurokit2.hrv.hrv_utils import _hrv_get_rri\n",
    "#from pyedflib.highlevel import anonymize_edf, read_edf"
   ]
  },
  {
   "cell_type": "markdown",
   "id": "fbe22c9b",
   "metadata": {},
   "source": [
    "# allocate variables"
   ]
  },
  {
   "cell_type": "code",
   "execution_count": 51,
   "id": "2c888d95",
   "metadata": {},
   "outputs": [
    {
     "data": {
      "text/plain": [
       "0       L\n",
       "1       L\n",
       "2       L\n",
       "3       L\n",
       "4       L\n",
       "       ..\n",
       "944    N2\n",
       "945    N2\n",
       "946    N2\n",
       "947     W\n",
       "948     W\n",
       "Name: Stg, Length: 949, dtype: object"
      ]
     },
     "execution_count": 51,
     "metadata": {},
     "output_type": "execute_result"
    }
   ],
   "source": [
    "#öffnen des Hypnogram\n",
    "filename = 'Probanden/NihonKhoden/007/150921EpochReport.txt'\n",
    "def fileopener(filename):\n",
    "    return pd.read_csv(filename, skiprows=0, delimiter=\"\\t\", sep=\"\\t\")\n",
    "hypno = fileopener(filename)\n",
    "hypno['Stg']"
   ]
  },
  {
   "cell_type": "code",
   "execution_count": 27,
   "id": "c16d1688",
   "metadata": {
    "scrolled": true
   },
   "outputs": [],
   "source": [
    "file_path = 'Probanden/NihonKhoden/007/15092021.edf'"
   ]
  },
  {
   "cell_type": "code",
   "execution_count": 31,
   "id": "c1495973",
   "metadata": {},
   "outputs": [
    {
     "data": {
      "text/plain": [
       "Header(version='0', local_patient_identification='GA067096 M X GA067096_GA067096', local_recording_identification='GA067096', startdate_of_recording='15.09.21', starttime_of_recording='22.31.14', number_of_bytes_in_header_record=5120, reserved=None, number_of_data_records=26334, duration_of_a_data_record=1, number_of_signals=19, signals=(SignalHeader(label='EOG Li', transducer_type='Unknown', physical_dimension='uV', physical_minimum=-3200.0, physical_maximum=3200.0, digital_minimum=-32768, digital_maximum=32767, prefiltering='HP:0,300Hz LP:35Hz N:50Hz', nr_of_samples_in_each_data_record=500, reserved=None), SignalHeader(label='EOG Re', transducer_type='Unknown', physical_dimension='uV', physical_minimum=-3200.0, physical_maximum=3200.0, digital_minimum=-32768, digital_maximum=32767, prefiltering='HP:0,300Hz LP:35Hz N:50Hz', nr_of_samples_in_each_data_record=500, reserved=None), SignalHeader(label='F3-A2', transducer_type='Unknown', physical_dimension='uV', physical_minimum=-3200.0, physical_maximum=3200.0, digital_minimum=-32768, digital_maximum=32767, prefiltering='HP:0,531Hz LP:35Hz N:50Hz', nr_of_samples_in_each_data_record=500, reserved=None), SignalHeader(label='C3-A2', transducer_type='Unknown', physical_dimension='uV', physical_minimum=-3200.0, physical_maximum=3200.0, digital_minimum=-32768, digital_maximum=32767, prefiltering='HP:0,531Hz LP:35Hz N:50Hz', nr_of_samples_in_each_data_record=500, reserved=None), SignalHeader(label='O1-A2', transducer_type='Unknown', physical_dimension='uV', physical_minimum=-3200.0, physical_maximum=3200.0, digital_minimum=-32768, digital_maximum=32767, prefiltering='HP:0,531Hz LP:35Hz N:50Hz', nr_of_samples_in_each_data_record=500, reserved=None), SignalHeader(label='F4-A1', transducer_type='Unknown', physical_dimension='uV', physical_minimum=-3200.0, physical_maximum=3200.0, digital_minimum=-32768, digital_maximum=32767, prefiltering='HP:0,531Hz LP:35Hz N:50Hz', nr_of_samples_in_each_data_record=500, reserved=None), SignalHeader(label='C4-A1', transducer_type='Unknown', physical_dimension='uV', physical_minimum=-3200.0, physical_maximum=3200.0, digital_minimum=-32768, digital_maximum=32767, prefiltering='HP:0,531Hz LP:35Hz N:50Hz', nr_of_samples_in_each_data_record=500, reserved=None), SignalHeader(label='O2-A1', transducer_type='Unknown', physical_dimension='uV', physical_minimum=-3200.0, physical_maximum=3200.0, digital_minimum=-32768, digital_maximum=32767, prefiltering='HP:0,531Hz LP:35Hz N:50Hz', nr_of_samples_in_each_data_record=500, reserved=None), SignalHeader(label='Kinn', transducer_type='Unknown', physical_dimension='uV', physical_minimum=-3200.0, physical_maximum=3200.0, digital_minimum=-32768, digital_maximum=32767, prefiltering='HP:0,100Hz LP:100Hz N:50Hz', nr_of_samples_in_each_data_record=500, reserved=None), SignalHeader(label='EKG', transducer_type='Unknown', physical_dimension='uV', physical_minimum=-3200.0, physical_maximum=3200.0, digital_minimum=-32768, digital_maximum=32767, prefiltering='HP:0,300Hz LP:100Hz N:50Hz', nr_of_samples_in_each_data_record=500, reserved=None), SignalHeader(label='Schnarchen', transducer_type='Unknown', physical_dimension='uV', physical_minimum=-3200.0, physical_maximum=3200.0, digital_minimum=-32768, digital_maximum=32767, prefiltering='HP:0,032Hz LP:70Hz N:50Hz', nr_of_samples_in_each_data_record=500, reserved=None), SignalHeader(label='Flow', transducer_type='Unknown', physical_dimension='uV', physical_minimum=-3200.0, physical_maximum=3200.0, digital_minimum=-32768, digital_maximum=32767, prefiltering='HP:0,100Hz LP:15Hz N:50Hz', nr_of_samples_in_each_data_record=500, reserved=None), SignalHeader(label='Thorax', transducer_type='Unknown', physical_dimension='uV', physical_minimum=-3200.0, physical_maximum=3200.0, digital_minimum=-32768, digital_maximum=32767, prefiltering='HP:0,100Hz LP:15Hz N:50Hz', nr_of_samples_in_each_data_record=500, reserved=None), SignalHeader(label='Abdomen', transducer_type='Unknown', physical_dimension='uV', physical_minimum=-3200.0, physical_maximum=3200.0, digital_minimum=-32768, digital_maximum=32767, prefiltering='HP:0,100Hz LP:15Hz N:50Hz', nr_of_samples_in_each_data_record=500, reserved=None), SignalHeader(label='Spo2', transducer_type='Unknown', physical_dimension='%', physical_minimum=-12.0, physical_maximum=12.0, digital_minimum=-32768, digital_maximum=32767, prefiltering='HP:0,000Hz LP:0Hz N:50Hz', nr_of_samples_in_each_data_record=500, reserved=None), SignalHeader(label='Tib Li', transducer_type='Unknown', physical_dimension='uV', physical_minimum=-3200.0, physical_maximum=3200.0, digital_minimum=-32768, digital_maximum=32767, prefiltering='HP:0,300Hz LP:100Hz N:50Hz', nr_of_samples_in_each_data_record=500, reserved=None), SignalHeader(label='Tib Re', transducer_type='Unknown', physical_dimension='uV', physical_minimum=-3200.0, physical_maximum=3200.0, digital_minimum=-32768, digital_maximum=32767, prefiltering='HP:0,300Hz LP:100Hz N:50Hz', nr_of_samples_in_each_data_record=500, reserved=None), SignalHeader(label='Lage', transducer_type='Unknown', physical_dimension='', physical_minimum=-12.0, physical_maximum=12.0, digital_minimum=-32768, digital_maximum=32767, prefiltering='HP:0,000Hz LP:0Hz N:50Hz', nr_of_samples_in_each_data_record=500, reserved=None), SignalHeader(label='CPAP', transducer_type='Unknown', physical_dimension='mV', physical_minimum=-12003.0, physical_maximum=12003.0, digital_minimum=-32768, digital_maximum=32767, prefiltering='HP:0,000Hz LP:0Hz N:50Hz', nr_of_samples_in_each_data_record=500, reserved=None)))"
      ]
     },
     "execution_count": 31,
     "metadata": {},
     "output_type": "execute_result"
    }
   ],
   "source": [
    "#öffnen der EDF\n",
    "header = read_header(file_path)\n",
    "header"
   ]
  },
  {
   "cell_type": "code",
   "execution_count": 19,
   "id": "ea3e7736",
   "metadata": {},
   "outputs": [
    {
     "data": {
      "text/plain": [
       "SignalHeader(label='EKG', transducer_type='Unknown', physical_dimension='uV', physical_minimum=-3200.0, physical_maximum=3200.0, digital_minimum=-32768, digital_maximum=32767, prefiltering='HP:0,300Hz LP:100Hz N:50Hz', nr_of_samples_in_each_data_record=500, reserved=None)"
      ]
     },
     "execution_count": 19,
     "metadata": {},
     "output_type": "execute_result"
    }
   ],
   "source": [
    "header.signals[9]"
   ]
  },
  {
   "cell_type": "code",
   "execution_count": 24,
   "id": "7e275052",
   "metadata": {
    "scrolled": true
   },
   "outputs": [
    {
     "name": "stdout",
     "output_type": "stream",
     "text": [
      "Channel : 6\n"
     ]
    }
   ],
   "source": [
    "ecg_channel = prepedf.get_ecg_channel(file_path)"
   ]
  },
  {
   "cell_type": "markdown",
   "id": "130f5651",
   "metadata": {},
   "source": [
    "# Calculation cutpoints from seperate hypnogram"
   ]
  },
  {
   "cell_type": "code",
   "execution_count": null,
   "id": "9420a5b1",
   "metadata": {},
   "outputs": [],
   "source": [
    "#cutpoints where stadium changes"
   ]
  },
  {
   "cell_type": "code",
   "execution_count": null,
   "id": "ec856c6a",
   "metadata": {},
   "outputs": [],
   "source": [
    "cutpoints = preph.calculate_cutpoints(dfh)\n",
    "cutpoints"
   ]
  },
  {
   "cell_type": "code",
   "execution_count": null,
   "id": "aad3aba1",
   "metadata": {},
   "outputs": [],
   "source": [
    "diff = preph.calculate_cutpoints_diff(cutpoints)\n",
    "print(diff)"
   ]
  },
  {
   "cell_type": "markdown",
   "id": "5b165655",
   "metadata": {},
   "source": [
    "# Calculation difference start from seperate hypnogram and edf"
   ]
  },
  {
   "cell_type": "code",
   "execution_count": null,
   "id": "c930e305",
   "metadata": {},
   "outputs": [],
   "source": [
    "startedf = header.starttime_of_recording\n",
    "starthypno = dfh.iloc[0][0]\n",
    "print(starthypno)\n",
    "\n",
    "# DTF\n",
    "startedfdto = datetime.strptime(startedf, \"%H.%M.%S\")\n",
    "\n",
    "# hypno\n",
    "starthypnodto = datetime.strptime(starthypno, \"%H:%M:%S\")\n",
    "\n",
    "difference_between = prepedf.get_absolute_time_diff(startedfdto, starthypnodto)\n",
    "print(difference_between)"
   ]
  },
  {
   "cell_type": "markdown",
   "id": "3b118582",
   "metadata": {},
   "source": [
    "# cut first diff with difference, diff acts as a pattern for cutting"
   ]
  },
  {
   "cell_type": "code",
   "execution_count": null,
   "id": "b5092ada",
   "metadata": {},
   "outputs": [],
   "source": [
    "diff[0] = int(diff[0]-difference_between)\n",
    "print(diff)"
   ]
  },
  {
   "cell_type": "code",
   "execution_count": null,
   "id": "a3e32c6a",
   "metadata": {},
   "outputs": [],
   "source": [
    "def stuecke(diff):\n",
    "    zaehler = 0\n",
    "    for i in diff:\n",
    "        bla = i/300\n",
    "        print(bla)\n",
    "        zaehler = zaehler + int(bla)\n",
    "        print(zaehler)\n",
    "    return zaehler    \n",
    "\n",
    "stuecke(diff)"
   ]
  },
  {
   "cell_type": "code",
   "execution_count": null,
   "id": "3ef6d2f4",
   "metadata": {},
   "outputs": [],
   "source": [
    "#get ecg from EDF as stadium sections"
   ]
  },
  {
   "cell_type": "code",
   "execution_count": null,
   "id": "62ab89fd",
   "metadata": {},
   "outputs": [],
   "source": [
    "ecg_signal = prepedf.get_data_sections(file_path,ecg_channel,diff,True)"
   ]
  },
  {
   "cell_type": "code",
   "execution_count": null,
   "id": "0e31eceb",
   "metadata": {},
   "outputs": [],
   "source": [
    "#check if length are correct, ecg has to be one longer than diff"
   ]
  },
  {
   "cell_type": "code",
   "execution_count": null,
   "id": "7aa491ee",
   "metadata": {},
   "outputs": [],
   "source": [
    "print(len(diff))\n",
    "print(len(ecg_signal))"
   ]
  },
  {
   "cell_type": "code",
   "execution_count": null,
   "id": "91aa809e",
   "metadata": {},
   "outputs": [],
   "source": [
    "print(diff[0])\n",
    "print(len(ecg_signal[0])/256)\n",
    "len(ecg_signal[0])"
   ]
  },
  {
   "cell_type": "code",
   "execution_count": null,
   "id": "ef1694dd",
   "metadata": {},
   "outputs": [],
   "source": [
    "#example plotting for first 3 seconds"
   ]
  },
  {
   "cell_type": "code",
   "execution_count": null,
   "id": "62a46a2c",
   "metadata": {
    "scrolled": true
   },
   "outputs": [],
   "source": [
    "plt.rcParams['figure.figsize'] = [15, 9] \n",
    "plt.plot(ecg_signal[0], alpha=0.5, color='blue', label=\"raw signal\")\n",
    "plt.xlim(0,768)\n",
    "plt.show()"
   ]
  },
  {
   "cell_type": "code",
   "execution_count": null,
   "id": "e41417e3",
   "metadata": {},
   "outputs": [],
   "source": [
    "#Liste anlegen aus Epochen und Stadienbezeichnung\n",
    "list_of_stad_value = []\n",
    "\n",
    "for i,value in enumerate(ecg_signal):\n",
    "    list_of_stad_value.append({'stadium':cutpoints['Stadium'][i], 'values': value})\n",
    "\n",
    "#print(list_of_stad_value[62]['stadium'])"
   ]
  },
  {
   "cell_type": "code",
   "execution_count": null,
   "id": "68415d6e",
   "metadata": {},
   "outputs": [],
   "source": [
    "print(len(list_of_stad_value))"
   ]
  },
  {
   "cell_type": "code",
   "execution_count": null,
   "id": "f1ee1c20",
   "metadata": {},
   "outputs": [],
   "source": [
    "segments = prepedf.segment_epochs(list_of_stad_value)\n",
    "len(segments[1]['values'])"
   ]
  },
  {
   "cell_type": "code",
   "execution_count": null,
   "id": "633ce554",
   "metadata": {
    "scrolled": true
   },
   "outputs": [],
   "source": [
    "prepedf.plot_compare_signals(segments[1]['values'], 256)"
   ]
  },
  {
   "cell_type": "code",
   "execution_count": null,
   "id": "f1ac2320",
   "metadata": {
    "scrolled": true
   },
   "outputs": [],
   "source": [
    "test = segments[1]['values']\n",
    "peaktest = test[42000:47000]\n",
    "#for i in test:\n",
    " #   if i>70:\n",
    "  #      test.pop()\n",
    "len(test)\n",
    "#sig = nk.signal_simulate(duration=20, sampling_rate=256, frequency=1)\n",
    "prepedf.compare_peaks(test)"
   ]
  },
  {
   "cell_type": "code",
   "execution_count": null,
   "id": "de6fa0a8",
   "metadata": {
    "scrolled": true
   },
   "outputs": [],
   "source": [
    "#results\n",
    "hrv_results,hrv_process,hrv_info = prepedf.analyse_segments(idp, 256, segments)\n",
    "#testplot(segment)\n",
    "#test_analyze(segment)"
   ]
  },
  {
   "cell_type": "code",
   "execution_count": null,
   "id": "c3df8d94",
   "metadata": {
    "scrolled": true
   },
   "outputs": [],
   "source": [
    "hrv_results"
   ]
  },
  {
   "cell_type": "code",
   "execution_count": null,
   "id": "793eaf86",
   "metadata": {},
   "outputs": [],
   "source": []
  }
 ],
 "metadata": {
  "kernelspec": {
   "display_name": "Python 3",
   "language": "python",
   "name": "python3"
  },
  "language_info": {
   "codemirror_mode": {
    "name": "ipython",
    "version": 3
   },
   "file_extension": ".py",
   "mimetype": "text/x-python",
   "name": "python",
   "nbconvert_exporter": "python",
   "pygments_lexer": "ipython3",
   "version": "3.6.9"
  }
 },
 "nbformat": 4,
 "nbformat_minor": 5
}

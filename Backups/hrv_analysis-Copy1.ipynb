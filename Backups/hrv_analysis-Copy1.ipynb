{
 "cells": [
  {
   "cell_type": "markdown",
   "id": "0853db9f",
   "metadata": {
    "scrolled": false
   },
   "source": [
    "# imports"
   ]
  },
  {
   "cell_type": "code",
   "execution_count": 2,
   "id": "ee6d8de2",
   "metadata": {},
   "outputs": [],
   "source": [
    "import pandas as pd\n",
    "import csv\n",
    "import heartbeat as hb\n",
    "import neurokit2 as nk\n",
    "import matplotlib.pyplot as plt\n",
    "from edfrd import read_header, read_data_records\n",
    "from datetime import time\n",
    "from datetime import datetime\n",
    "from datetime import date\n",
    "from datetime import timedelta"
   ]
  },
  {
   "cell_type": "code",
   "execution_count": 3,
   "id": "0b145f59",
   "metadata": {},
   "outputs": [],
   "source": [
    "import edfrd\n",
    "from neurokit2.hrv.hrv_utils import _hrv_get_rri"
   ]
  },
  {
   "cell_type": "code",
   "execution_count": 3,
   "id": "57df1e0a",
   "metadata": {},
   "outputs": [],
   "source": [
    "# bigger images"
   ]
  },
  {
   "cell_type": "code",
   "execution_count": 4,
   "id": "6d579ca1",
   "metadata": {},
   "outputs": [],
   "source": [
    "#plt.rcParams['figure.figsize'] = [15, 9]  "
   ]
  },
  {
   "cell_type": "markdown",
   "id": "d56fb7b7",
   "metadata": {},
   "source": [
    "# Hypnogram Epochen ermitteln"
   ]
  },
  {
   "cell_type": "code",
   "execution_count": 5,
   "id": "5f5c54c5",
   "metadata": {},
   "outputs": [],
   "source": [
    "with open('schlafprofil.txt', 'r') as file:\n",
    "    reader = csv.reader(file)\n",
    "    #for row in reader:\n",
    "        #print(row)"
   ]
  },
  {
   "cell_type": "code",
   "execution_count": 6,
   "id": "bf00d95a",
   "metadata": {},
   "outputs": [],
   "source": [
    "# import Hypnogram as df"
   ]
  },
  {
   "cell_type": "code",
   "execution_count": 7,
   "id": "b02a9825",
   "metadata": {},
   "outputs": [
    {
     "name": "stdout",
     "output_type": "stream",
     "text": [
      "             Time Stadium\n",
      "0    23:24:30,000    Wach\n",
      "1    23:25:00,000    Wach\n",
      "2    23:25:30,000    Wach\n",
      "3    23:26:00,000    Wach\n",
      "4    23:26:30,000    Wach\n",
      "..            ...     ...\n",
      "905  06:57:00,000    Wach\n",
      "906  06:57:30,000    Wach\n",
      "907  06:58:00,000    Wach\n",
      "908  06:58:30,000    Wach\n",
      "909  06:59:00,000    Wach\n",
      "\n",
      "[910 rows x 2 columns]\n"
     ]
    }
   ],
   "source": [
    "dfh = pd.read_csv('schlafprofil.txt', skiprows= 5, delimiter=\";\", sep=\" \",names= [\"Time\", \"Stadium\"],header=0)\n",
    "print(dfh)"
   ]
  },
  {
   "cell_type": "code",
   "execution_count": 8,
   "id": "3c99a671",
   "metadata": {},
   "outputs": [],
   "source": [
    "# cutoff the miliseconds"
   ]
  },
  {
   "cell_type": "code",
   "execution_count": 9,
   "id": "ebc89f81",
   "metadata": {},
   "outputs": [
    {
     "name": "stdout",
     "output_type": "stream",
     "text": [
      "0      23:24:30\n",
      "1      23:25:00\n",
      "2      23:25:30\n",
      "3      23:26:00\n",
      "4      23:26:30\n",
      "         ...   \n",
      "905    06:57:00\n",
      "906    06:57:30\n",
      "907    06:58:00\n",
      "908    06:58:30\n",
      "909    06:59:00\n",
      "Name: Time, Length: 910, dtype: object\n"
     ]
    }
   ],
   "source": [
    "dfh[\"Time\"]= dfh[\"Time\"].str[:8]\n",
    "print(dfh[\"Time\"])"
   ]
  },
  {
   "cell_type": "code",
   "execution_count": 10,
   "id": "572773b2",
   "metadata": {},
   "outputs": [],
   "source": [
    "#convert to time format"
   ]
  },
  {
   "cell_type": "code",
   "execution_count": 11,
   "id": "b665eb2d",
   "metadata": {},
   "outputs": [
    {
     "name": "stdout",
     "output_type": "stream",
     "text": [
      "         Time Stadium\n",
      "0    23:24:30    Wach\n",
      "1    23:25:00    Wach\n",
      "2    23:25:30    Wach\n",
      "3    23:26:00    Wach\n",
      "4    23:26:30    Wach\n",
      "..        ...     ...\n",
      "905  06:57:00    Wach\n",
      "906  06:57:30    Wach\n",
      "907  06:58:00    Wach\n",
      "908  06:58:30    Wach\n",
      "909  06:59:00    Wach\n",
      "\n",
      "[910 rows x 2 columns]\n"
     ]
    }
   ],
   "source": [
    "pd.to_datetime(dfh[\"Time\"], format='%H:%M:%S').dt.time\n",
    "print(dfh)"
   ]
  },
  {
   "cell_type": "code",
   "execution_count": 12,
   "id": "69deff24",
   "metadata": {},
   "outputs": [
    {
     "name": "stdout",
     "output_type": "stream",
     "text": [
      "23:24:30\n"
     ]
    }
   ],
   "source": [
    "dfneu = []\n",
    "starthypno = dfh.iloc[0][0]\n",
    "#starthypno = pd.to_datetime(start, format='%H:%M:%S').time()\n",
    "print(starthypno)"
   ]
  },
  {
   "cell_type": "code",
   "execution_count": 13,
   "id": "345bbc6e",
   "metadata": {},
   "outputs": [],
   "source": [
    "# create list of cutpoints where stadium changes"
   ]
  },
  {
   "cell_type": "code",
   "execution_count": 14,
   "id": "38a40a15",
   "metadata": {},
   "outputs": [
    {
     "name": "stdout",
     "output_type": "stream",
     "text": [
      "Time       23:40:00\n",
      "Stadium          N1\n",
      "Name: 31, dtype: object\n",
      "Time       23:43:30\n",
      "Stadium          N2\n",
      "Name: 38, dtype: object\n",
      "Time       23:49:30\n",
      "Stadium          N3\n",
      "Name: 50, dtype: object\n",
      "Time       00:10:30\n",
      "Stadium          N1\n",
      "Name: 92, dtype: object\n",
      "Time       00:11:00\n",
      "Stadium          N2\n",
      "Name: 93, dtype: object\n",
      "Time       00:16:30\n",
      "Stadium          N3\n",
      "Name: 104, dtype: object\n",
      "Time       00:19:00\n",
      "Stadium          N2\n",
      "Name: 109, dtype: object\n",
      "Time       00:20:00\n",
      "Stadium        Wach\n",
      "Name: 111, dtype: object\n",
      "Time       00:30:00\n",
      "Stadium          N1\n",
      "Name: 131, dtype: object\n",
      "Time       00:34:30\n",
      "Stadium          N2\n",
      "Name: 140, dtype: object\n",
      "Time       00:47:30\n",
      "Stadium          N3\n",
      "Name: 166, dtype: object\n",
      "Time       01:18:00\n",
      "Stadium        Wach\n",
      "Name: 227, dtype: object\n",
      "Time       01:20:30\n",
      "Stadium          N1\n",
      "Name: 232, dtype: object\n",
      "Time       01:25:00\n",
      "Stadium          N2\n",
      "Name: 241, dtype: object\n",
      "Time       01:26:00\n",
      "Stadium         Rem\n",
      "Name: 243, dtype: object\n",
      "Time       01:48:30\n",
      "Stadium          N2\n",
      "Name: 288, dtype: object\n",
      "Time       01:57:30\n",
      "Stadium          N1\n",
      "Name: 306, dtype: object\n",
      "Time       01:59:30\n",
      "Stadium          N2\n",
      "Name: 310, dtype: object\n",
      "Time       02:02:30\n",
      "Stadium          N1\n",
      "Name: 316, dtype: object\n",
      "Time       02:03:00\n",
      "Stadium        Wach\n",
      "Name: 317, dtype: object\n",
      "Time       02:05:30\n",
      "Stadium          N1\n",
      "Name: 322, dtype: object\n",
      "Time       02:13:00\n",
      "Stadium          N2\n",
      "Name: 337, dtype: object\n",
      "Time       02:22:00\n",
      "Stadium          N3\n",
      "Name: 355, dtype: object\n",
      "Time       02:30:00\n",
      "Stadium          N2\n",
      "Name: 371, dtype: object\n",
      "Time       02:37:00\n",
      "Stadium          N3\n",
      "Name: 385, dtype: object\n",
      "Time       02:45:00\n",
      "Stadium          N2\n",
      "Name: 401, dtype: object\n",
      "Time       02:56:00\n",
      "Stadium        Wach\n",
      "Name: 423, dtype: object\n",
      "Time       02:58:00\n",
      "Stadium          N1\n",
      "Name: 427, dtype: object\n",
      "Time       03:05:30\n",
      "Stadium         Rem\n",
      "Name: 442, dtype: object\n",
      "Time       03:21:30\n",
      "Stadium        Wach\n",
      "Name: 474, dtype: object\n",
      "Time       03:28:30\n",
      "Stadium          N1\n",
      "Name: 488, dtype: object\n",
      "Time       03:39:00\n",
      "Stadium          N2\n",
      "Name: 509, dtype: object\n",
      "Time       03:40:00\n",
      "Stadium          N1\n",
      "Name: 511, dtype: object\n",
      "Time       03:45:30\n",
      "Stadium          N2\n",
      "Name: 522, dtype: object\n",
      "Time       04:09:00\n",
      "Stadium          N3\n",
      "Name: 569, dtype: object\n",
      "Time       04:11:00\n",
      "Stadium          N1\n",
      "Name: 573, dtype: object\n",
      "Time       04:15:00\n",
      "Stadium          N2\n",
      "Name: 581, dtype: object\n",
      "Time       04:23:30\n",
      "Stadium         Rem\n",
      "Name: 598, dtype: object\n",
      "Time       04:40:30\n",
      "Stadium          N1\n",
      "Name: 632, dtype: object\n",
      "Time       04:45:30\n",
      "Stadium        Wach\n",
      "Name: 642, dtype: object\n",
      "Time       04:47:00\n",
      "Stadium          N1\n",
      "Name: 645, dtype: object\n",
      "Time       04:50:00\n",
      "Stadium        Wach\n",
      "Name: 651, dtype: object\n",
      "Time       04:51:30\n",
      "Stadium          N1\n",
      "Name: 654, dtype: object\n",
      "Time       04:57:00\n",
      "Stadium          N2\n",
      "Name: 665, dtype: object\n",
      "Time       05:16:30\n",
      "Stadium        Wach\n",
      "Name: 704, dtype: object\n",
      "Time       05:20:00\n",
      "Stadium          N1\n",
      "Name: 711, dtype: object\n",
      "Time       05:24:00\n",
      "Stadium          N2\n",
      "Name: 719, dtype: object\n",
      "Time       05:25:30\n",
      "Stadium        Wach\n",
      "Name: 722, dtype: object\n",
      "Time       05:28:30\n",
      "Stadium          N1\n",
      "Name: 728, dtype: object\n",
      "Time       05:30:00\n",
      "Stadium        Wach\n",
      "Name: 731, dtype: object\n",
      "Time       05:41:00\n",
      "Stadium          N1\n",
      "Name: 753, dtype: object\n",
      "Time       05:44:30\n",
      "Stadium        Wach\n",
      "Name: 760, dtype: object\n",
      "Time       05:49:30\n",
      "Stadium          N1\n",
      "Name: 770, dtype: object\n",
      "Time       05:53:00\n",
      "Stadium         Rem\n",
      "Name: 777, dtype: object\n",
      "Time       06:06:00\n",
      "Stadium          N1\n",
      "Name: 803, dtype: object\n",
      "Time       06:06:30\n",
      "Stadium        Wach\n",
      "Name: 804, dtype: object\n",
      "Time       06:07:30\n",
      "Stadium          N1\n",
      "Name: 806, dtype: object\n",
      "Time       06:09:30\n",
      "Stadium         Rem\n",
      "Name: 810, dtype: object\n",
      "Time       06:39:00\n",
      "Stadium        Wach\n",
      "Name: 869, dtype: object\n",
      "Time       06:41:00\n",
      "Stadium          N1\n",
      "Name: 873, dtype: object\n",
      "Time       06:45:00\n",
      "Stadium          N2\n",
      "Name: 881, dtype: object\n",
      "Time       06:45:30\n",
      "Stadium        Wach\n",
      "Name: 882, dtype: object\n"
     ]
    }
   ],
   "source": [
    "dfneu.append(dfh.loc[0])\n",
    "for i in range(len(dfh)):\n",
    "    if dfh.Stadium.iloc[i] != dfh.Stadium.iloc[i -1]:\n",
    "        print(dfh.loc[i])\n",
    "        dfneu.append(dfh.loc[i])"
   ]
  },
  {
   "cell_type": "code",
   "execution_count": 15,
   "id": "d2a4a446",
   "metadata": {},
   "outputs": [],
   "source": [
    "#create new dataframe from List "
   ]
  },
  {
   "cell_type": "code",
   "execution_count": 16,
   "id": "137b9ce2",
   "metadata": {
    "scrolled": false
   },
   "outputs": [
    {
     "name": "stdout",
     "output_type": "stream",
     "text": [
      "         Time Stadium\n",
      "0    23:24:30    Wach\n",
      "31   23:40:00      N1\n",
      "38   23:43:30      N2\n",
      "50   23:49:30      N3\n",
      "92   00:10:30      N1\n",
      "..        ...     ...\n",
      "810  06:09:30     Rem\n",
      "869  06:39:00    Wach\n",
      "873  06:41:00      N1\n",
      "881  06:45:00      N2\n",
      "882  06:45:30    Wach\n",
      "\n",
      "[63 rows x 2 columns]\n"
     ]
    }
   ],
   "source": [
    "#pd.to_datetime(dfneu)\n",
    "cutpoints = pd.DataFrame(dfneu, columns=['Time', 'Stadium'])\n",
    "cutpoints.reset_index()\n",
    "pd.to_datetime(cutpoints['Time'], format='%H:%M:%S').dt.time\n",
    "print(cutpoints)"
   ]
  },
  {
   "cell_type": "code",
   "execution_count": 17,
   "id": "35fe0f44",
   "metadata": {},
   "outputs": [],
   "source": [
    "# calculate differences between cutpoints(stadium 1(wake) is 930 seconds)"
   ]
  },
  {
   "cell_type": "code",
   "execution_count": 18,
   "id": "1e54891d",
   "metadata": {},
   "outputs": [
    {
     "name": "stdout",
     "output_type": "stream",
     "text": [
      "[930, 210, 360, 1260, 30, 330, 150, 60, 600, 270, 780, 1830, 150, 270, 60, 1350, 540, 120, 180, 30, 150, 450, 540, 480, 420, 480, 660, 120, 450, 960, 420, 630, 60, 330, 1410, 120, 240, 510, 1020, 300, 90, 180, 90, 330, 1170, 210, 240, 90, 180, 90, 660, 210, 300, 210, 780, 30, 60, 120, 1770, 120, 240, 30]\n"
     ]
    }
   ],
   "source": [
    "diff = []\n",
    "for i in range(len(cutpoints)):\n",
    "        #print(cutpoints.Time.iloc[i])\n",
    "        #print(i)\n",
    "        if i < len(cutpoints)-1:\n",
    "            subs = pd.Timedelta(cutpoints.Time.iloc[i+1]).seconds - pd.Timedelta(cutpoints.Time.iloc[i]).seconds\n",
    "            if subs > 0:\n",
    "                diff.append(subs)\n",
    "            else:\n",
    "                pos = subs + 86400\n",
    "                diff.append(pos)\n",
    "            #diff.append(pd.Timedelta(cutpoints.Time.loc[i+1]-cutpoints.Time.loc[i]))\n",
    "            #diff.append(cutpoints.Time.iloc[i+1]-cutpoints.Time.iloc[i])\n",
    "print(diff)"
   ]
  },
  {
   "cell_type": "code",
   "execution_count": 19,
   "id": "872c6b5c",
   "metadata": {},
   "outputs": [
    {
     "name": "stdout",
     "output_type": "stream",
     "text": [
      "         Time Stadium\n",
      "0    23:24:30    Wach\n",
      "1    23:25:00    Wach\n",
      "2    23:25:30    Wach\n",
      "3    23:26:00    Wach\n",
      "4    23:26:30    Wach\n",
      "..        ...     ...\n",
      "905  06:57:00    Wach\n",
      "906  06:57:30    Wach\n",
      "907  06:58:00    Wach\n",
      "908  06:58:30    Wach\n",
      "909  06:59:00    Wach\n",
      "\n",
      "[910 rows x 2 columns]\n"
     ]
    }
   ],
   "source": [
    "print(dfh)"
   ]
  },
  {
   "cell_type": "code",
   "execution_count": 20,
   "id": "64035016",
   "metadata": {},
   "outputs": [],
   "source": [
    "#get the edf and read out header "
   ]
  },
  {
   "cell_type": "code",
   "execution_count": 37,
   "id": "e9a3c358",
   "metadata": {
    "scrolled": true
   },
   "outputs": [
    {
     "name": "stdout",
     "output_type": "stream",
     "text": [
      "[2070, 2070, 2070, 2070, 2070, 2070, 2070, 2070, 2070, 2070, 2070, 2070, 2070, 2070, 2070, 2070, 2070, 2070, 2070, 2070, 2070, 2070, 2070, 2070, 2070, 2070, 2070, 2070, 2070, 2070, 2070, 2070, 2070, 2070, 2070, 2070, 2070, 2070, 2070, 2070, 2070, 2070, 2070, 2070, 2070, 2070, 2070, 2070, 2070, 2070, 2070, 2048, 2070, 2048, 2070, 2048, 2070, 2048, 2070, 2048, 2070, 2048, 2070, 2048, 2070, 2048, 2070, 2048, 2070, 2048, 2070, 2048, 2070, 2048, 2069, 2048, 2069, 2048, 2069, 2048, 2069, 2048, 2069, 2048, 2069, 2048, 2069, 2048, 2069, 2048, 2069, 2048, 2069, 2048, 2069, 2048, 2069, 2048, 2069, 2048, 2069, 2048, 2069, 2048, 2069, 2048, 2069, 2048, 2069, 2048, 2069, 2048, 2068, 2048, 2069, 2048, 2068, 2048, 2068, 2048, 2068, 2048, 2068, 2048, 2068, 2048, 2068, 2048, 2068, 2048, 2068, 2048, 2068, 2048, 2068, 2048, 2068, 2048, 2068, 2048, 2068, 2048, 2068, 2048, 2068, 2048, 2068, 2048, 2068, 2048, 2068, 2048, 2068, 2048, 2068, 2048, 2068, 2048, 2067, 2048, 2067, 2048, 2067, 2048, 2067, 2048, 2067, 2048, 2067, 2048, 2067, 2048, 2066, 2048, 2067, 2048, 2066, 2048, 2066, 2048, 2066, 2048, 2067, 2048, 2066, 2048, 2066, 2048, 2066, 2048, 2066, 2048, 2066, 2048, 2066, 2048, 2066, 2048, 2066, 2048, 2066, 2048, 2066, 2048, 2066, 2048, 2066, 2048, 2066, 2048, 2066, 2048, 2066, 2048, 2066, 2048, 2066, 2048, 2066, 2048, 2066, 2048, 2066, 2048, 2065, 2048, 2065, 2048, 2065, 2048, 2065, 2048, 2065, 2048, 2065, 2048, 2065, 2048, 2065, 2048, 2065, 2048, 2065, 2048, 2065, 2048, 2064, 2048, 2065, 2048, 2064, 2048, 2064, 2048, 2065, 2048, 2064, 2048, 2064, 2048, 2064, 2048, 2064, 2048, 2064, 2048, 2064, 2048, 2064, 2048, 2064, 2048, 2064, 2048, 2064, 2048, 2064, 2048, 2064, 2048, 2064, 2048, 2064, 2048, 2064, 2049, 2064, 2048, 2064, 2048, 2064, 2048, 2064, 2049, 2064, 2048, 2064, 2049, 2064, 2049, 2064, 2049, 2064, 2049, 2064, 2049, 2064, 2050, 2064, 2049, 2064, 2049, 2064, 2049, 2064, 2049, 2064, 2049, 2064, 2050, 2064, 2050, 2064, 2050, 2062, 2050, 2062, 2050, 2062, 2050, 2062, 2050, 2061, 2050, 2061, 2050, 2061, 2050, 2061, 2050, 2061, 2050, 2061, 2050, 2061, 2051, 2061, 2050, 2061, 2051, 2061, 2051, 2061, 2051, 2061, 2051, 2061, 2052, 2060, 2051, 2060, 2051, 2060, 2051, 2060, 2051, 2060, 2051, 2060, 2052, 2060, 2052, 2060, 2052, 2060, 2052, 2060, 2052, 2060, 2052, 2059, 2052, 2060, 2052, 2059, 2052, 2060, 2052, 2060, 2052, 2060, 2052, 2059, 2052, 2059, 2052, 2059, 2052, 2059, 2052, 2059, 2053, 2059, 2053, 2059, 2053, 2059, 2053, 2059, 2053, 2058, 2053, 2059, 2053, 2058, 2053, 2058, 2053, 2058, 2053, 2058, 2053, 2058, 2053, 2058, 2053, 2058, 2053, 2058, 2053, 2058, 2054, 2058, 2053, 2058, 2054, 2058, 2054, 2058, 2054, 2058, 2054, 2058, 2054, 2058, 2054, 2058, 2054, 2058, 2054, 2057, 2054, 2057, 2053, 2057, 2054, 2057, 2054, 2057, 2054, 2057, 2054, 2057, 2054, 2057, 2056, 2057, 2056, 2057, 2056, 2057, 2056, 2056, 2056, 2057, 2056, 2056, 2056, 2057, 2056, 2056, 2056, 2056, 2056, 2056, 2056, 2056, 2056, 2056, 2056, 2056, 2056, 2056, 2056, 2056, 2056, 2056, 2056, 2056, 2056, 2056, 2056, 2056, 2056, 2056, 2056, 2056, 2056, 2056, 2056, 2056, 2056, 2056, 2056, 2056, 2056, 2056, 2057, 2056, 2057, 2056, 2057, 2056, 2057, 2055, 2057, 2055, 2057, 2055, 2057, 2054, 2057, 2054, 2057, 2055, 2057, 2054, 2057, 2054, 2057, 2054, 2057, 2054, 2057, 2054, 2057, 2054, 2057, 2054, 2058, 2054, 2058, 2054, 2058, 2053, 2058, 2054, 2058, 2054, 2058, 2054, 2058, 2054, 2058, 2054, 2058, 2053, 2058, 2053, 2058, 2053, 2058, 2053, 2058, 2053, 2058, 2053, 2058, 2053, 2058, 2053, 2058, 2053, 2058, 2053, 2058, 2053, 2059, 2053, 2058, 2053, 2058, 2053, 2059, 2052, 2059, 2052, 2059, 2053, 2059, 2052, 2059, 2052, 2059, 2052, 2059, 2052, 2059, 2053, 2059, 2052, 2060, 2052, 2059, 2052, 2059, 2052, 2060, 2052, 2060, 2052, 2060, 2052, 2060, 2052, 2060, 2052, 2060, 2052, 2060, 2052, 2060, 2052, 2060, 2052, 2060, 2052, 2060, 2051, 2060, 2051, 2060, 2051, 2061, 2051, 2061, 2051, 2060, 2051, 2061, 2051, 2061, 2051, 2061, 2051, 2061, 2051, 2061, 2050, 2061, 2050, 2061, 2050, 2061, 2050, 2061, 2050, 2061, 2050, 2061, 2050, 2061, 2050, 2062, 2050, 2061, 2050, 2061, 2050, 2061, 2050, 2061, 2050, 2064, 2050, 2061, 2050, 2062, 2050, 2064, 2050, 2064, 2050, 2064, 2050, 2064, 2050, 2064, 2050, 2064, 2049, 2064, 2049, 2064, 2049, 2064, 2049, 2064, 2049, 2064, 2049, 2064, 2049, 2064, 2049, 2064, 2049, 2064, 2049, 2064, 2049, 2064, 2049, 2064, 2049, 2064, 2049, 2064, 2048, 2064, 2049, 2064, 2048, 2064, 2048, 2064, 2048, 2064, 2048, 2064, 2048, 2064, 2048, 2064, 2048, 2064, 2048, 2064, 2048, 2064, 2048, 2064, 2048, 2064, 2048, 2064, 2048, 2064, 2048, 2064, 2048, 2064, 2048, 2064, 2048, 2064, 2048, 2065, 2048, 2064, 2048, 2064, 2048, 2064, 2048, 2065, 2048, 2064, 2048, 2065, 2048, 2065, 2048, 2065, 2048, 2065, 2048, 2065, 2048, 2065, 2048, 2065, 2048, 2065, 2048, 2065, 2048, 2065, 2048, 2065, 2048, 2065, 2048, 2065, 2048, 2066, 2048, 2066, 2048, 2066, 2048, 2065, 2048, 2066, 2048, 2066, 2048, 2066, 2048, 2066, 2048, 2066, 2048, 2066, 2048, 2066, 2048, 2066, 2048, 2066, 2048, 2066, 2048, 2066, 2048, 2066, 2048, 2066, 2048, 2066, 2048, 2066, 2048, 2066, 2048, 2066, 2048, 2066, 2048, 2066, 2048, 2066, 2048, 2066, 2048, 2066, 2048, 2067, 2048, 2067, 2048, 2067, 2048, 2066, 2048, 2067, 2048, 2067, 2048, 2067, 2048, 2067, 2048, 2067, 2048, 2067, 2048, 2067, 2048, 2068, 2048, 2068, 2048, 2068, 2048, 2067, 2048, 2067, 2048, 2068, 2048, 2068, 2048, 2068, 2048, 2068, 2048, 2068, 2048, 2068, 2048, 2068, 2048, 2068, 2048, 2068, 2048, 2068, 2048, 2068, 2048, 2068, 2048, 2068, 2048, 2068, 2048, 2068, 2048, 2068, 2048, 2068, 2048, 2068, 2048, 2068, 2048, 2068, 2048, 2068, 2048, 2068, 2048, 2068, 2048, 2068, 2048, 2068, 2048, 2068, 2048, 2069, 2048, 2069, 2048, 2068, 2048, 2069, 2048, 2069, 2048, 2068, 2048, 2069, 2048, 2069, 2048, 2069, 2048, 2069, 2048, 2069, 2048, 2069, 2048, 2069, 2048, 2069, 2048, 2069, 2048, 2069, 2048, 2069, 2048, 2069, 2048, 2069, 2048, 2069, 2048, 2069, 2048, 2069, 2048, 2069, 2048, 2069, 2048, 2070, 2048, 2069, 2048, 2069, 2048, 2069, 2048, 2069, 2048, 2070, 2048, 2070, 2048, 2070, 2048, 2069, 2048, 2070, 2048, 2070, 2048, 2069, 2048, 2070, 2048, 2070, 2048, 2070, 2048, 2070, 2048, 2070, 2048, 2070, 2048, 2070, 2048, 2070, 2048, 2070, 2048, 2070, 2048, 2070, 2048, 2070, 2048, 2070, 2048, 2070, 2048, 2070, 2048, 2070, 2048, 2070, 2048, 2070, 2048, 2070, 2048, 2070, 2048, 2070, 2048, 2070, 2048, 2071, 2048, 2071, 2048, 2070, 2048, 2070, 2048, 2070, 2048, 2070, 2048, 2071, 2048, 2071, 2048, 2071, 2048, 2071, 2048, 2071, 2048, 2071, 2048, 2071, 2048, 2071, 2048, 2071, 2048, 2071, 2048, 2071, 2048, 2071, 2048, 2071, 2048, 2071, 2048, 2071, 2048, 2071, 2048, 2071, 2048, 2071, 2048, 2072, 2048, 2071, 2048, 2071, 2048, 2072, 2048, 2072, 2048, 2072, 2048, 2072, 2048, 2072, 2048, 2072, 2048, 2072, 2048, 2072, 2048, 2072, 2048, 2072, 2048, 2072, 2048, 2072, 2048, 2072, 2048, 2072, 2048, 2072, 2048, 2072, 2048, 2072, 2048, 2072, 2048, 2072, 2048, 2072, 2048, 2072, 2048, 2072, 2048, 2072, 2048, 2072, 2048, 2072, 2048, 2072, 2048, 2072, 2048, 2072, 2048, 2072, 2048, 2072, 2048, 2072, 2048, 2073, 2048, 2073, 2048, 2073, 2048, 2073, 2048, 2072, 2048, 2073, 2048, 2073, 2048, 2073, 2048, 2073, 2048, 2073, 2048, 2073, 2048, 2073, 2048, 2073, 2048, 2073, 2048, 2073, 2048, 2073, 2048, 2073, 2048, 2073, 2048, 2073, 2048, 2073, 2048, 2074, 2048, 2073, 2048, 2073, 2048, 2073, 2048, 2073, 2048, 2073, 2048, 2074, 2048, 2073, 2048, 2073, 2048, 2073, 2048, 2074, 2048, 2074, 2048, 2074, 2048, 2074, 2048, 2074, 2048, 2074, 2048, 2074, 2048, 2074, 2048, 2074, 2048, 2074, 2048, 2074, 2048, 2074, 2048, 2074, 2048, 2074, 2048, 2074, 2048, 2074, 2048, 2074, 2048, 2074, 2048, 2074, 2048, 2074, 2048, 2074, 2048, 2074, 2048, 2074, 2048, 2074, 2048, 2074, 2048, 2074, 2048, 2074, 2048, 2074, 2048, 2074, 2048, 2074, 2048, 2074, 2048, 2074, 2048, 2074, 2048, 2074, 2048, 2074, 2048, 2074, 2048, 2074, 2048, 2075, 2048, 2075, 2048, 2075, 2048, 2074, 2048, 2075, 2048, 2075, 2048, 2075, 2048, 2074, 2048, 2074, 2048, 2074, 2048, 2075, 2048, 2074, 2048, 2074, 2048, 2075, 2048, 2075, 2048, 2075, 2048, 2075, 2048, 2075, 2048, 2075, 2048, 2075, 2048, 2075, 2048, 2075, 2048, 2075, 2048, 2075, 2048, 2075, 2048, 2075, 2048, 2075, 2048, 2075, 2048, 2075, 2048, 2075, 2048, 2075, 2048, 2075, 2048, 2075, 2048, 2075, 2048, 2075, 2048, 2075, 2048, 2075, 2048, 2075, 2048, 2075, 2048, 2075, 2048, 2075, 2048, 2075, 2048, 2080, 2048, 2076, 2048, 2075, 2048, 2076, 2048, 2075, 2048, 2076, 2048, 2076, 2048, 2076, 2048, 2076, 2048, 2076, 2048, 2075, 2048, 2080, 2048, 2076, 2048, 2080, 2048, 2080, 2048, 2080, 2048, 2080, 2048, 2080, 2048, 2076, 2048, 2080, 2048, 2080, 2048, 2076, 2048, 2076, 2048, 2076, 2048, 2080, 2048, 2080, 2048, 2080, 2048, 2075, 2048, 2080, 2048, 2080, 2048, 2080, 2048, 2080, 2048, 2076, 2048, 2080, 2048, 2080, 2048, 2080, 2048, 2080, 2048, 2080, 2048, 2076, 2048, 2080, 2048, 2080, 2048, 2080, 2048, 2080, 2048, 2080, 2048, 2080, 2048, 2080, 2048, 2080, 2048, 2080, 2048, 2080, 2048, 2080, 2048, 2080, 2048, 2080, 2048, 2080, 2048, 2080, 2048, 2080, 2048, 2080, 2048, 2080, 2048, 2080, 2048, 2080, 2048, 2080, 2048, 2080, 2048, 2080, 2048, 2080, 2048, 2080, 2048, 2080, 2048, 2080, 2048, 2080, 2048, 2080, 2048, 2080, 2048, 2080, 2048, 2080, 2048, 2080, 2048, 2080, 2048, 2080, 2048, 2080, 2048, 2080, 2048, 2080, 2048, 2080, 2048, 2080, 2048, 2080, 2048, 2080, 2048, 2080, 2048, 2080, 2048, 2080, 2048, 2080, 2048, 2080, 2048, 2080, 2048, 2080, 2048, 2080, 2048, 2080, 2048, 2080, 2048, 2080, 2048, 2080, 2048, 2080, 2048, 2080, 2048, 2080, 2048, 2080, 2048, 2080, 2048, 2080, 2048, 2080, 2048, 2080, 2048, 2080, 2048, 2080, 2048, 2080, 2048, 2080, 2048, 2080, 2048, 2080, 2048, 2080, 2048, 2080, 2048, 2080, 2048, 2080, 2048, 2080, 2048, 2080, 2048, 2080, 2048, 2080, 2048, 2080, 2048, 2080, 2048, 2080, 2048, 2080, 2048, 2080, 2048, 2080, 2048, 2080, 2048, 2080, 2048, 2080, 2048, 2080, 2048, 2080, 2048, 2080, 2048, 2080, 2048, 2080, 2048, 2080, 2048, 2080, 2048, 2080, 2048, 2080, 2048, 2080, 2048, 2080, 2048, 2080, 2048, 2080, 2048, 2080, 2048, 2080, 2048, 2080, 2048, 2080, 2048, 2080, 2048, 2080, 2048, 2080, 2048, 2080, 2048, 2080, 2048, 2080, 2048, 2080, 2048, 2080, 2048, 2080, 2048, 2080, 2048, 2080, 2048, 2080, 2048, 2080, 2048, 2080, 2048, 2080, 2048, 2080, 2048, 2080, 2048, 2080, 2048, 2080, 2048, 2080, 2048, 2080, 2048, 2080, 2048, 2080, 2048, 2080, 2048, 2080, 2048, 2080, 2048, 2080, 2048, 2080, 2048, 2080, 2048, 2080, 2048, 2080, 2048, 2080, 2048, 2080, 2048, 2080, 2048, 2080, 2048, 2080, 2048, 2080, 2048, 2080, 2048, 2080, 2048, 2080, 2048, 2080, 2048, 2080, 2048, 2080, 2048, 2080, 2048, 2080, 2048, 2080, 2048, 2080, 2048, 2080, 2048, 2080, 2048, 2080, 2048, 2080, 2048, 2080, 2048, 2080, 2048, 2080, 2048, 2080, 2048, 2080, 2048, 2080, 2048, 2080, 2048, 2080, 2048, 2080, 2048, 2080, 2048, 2080, 2048, 2080, 2048, 2080, 2048, 2080, 2048, 2080, 2048, 2080, 2048, 2080, 2048, 2080, 2048, 2080, 2048, 2080, 2048, 2080, 2048, 2080, 2048, 2080, 2048, 2080, 2048, 2080, 2048, 2080, 2048, 2080, 2048, 2080, 2048, 2080, 2048, 2080, 2048, 2080, 2048, 2080, 2048, 2080, 2048, 2080, 2048, 2080, 2048, 2080, 2048, 2080, 2048, 2080, 2048, 2080, 2048, 2080, 2048, 2080, 2048, 2080, 2048, 2080, 2048, 2080, 2048, 2080, 2048, 2080, 2048, 2080, 2048, 2080, 2048, 2080, 2048, 2080, 2048, 2080, 2048, 2080, 2048, 2080, 2048, 2080, 2048, 2080, 2048, 2080, 2048, 2080, 2048, 2080, 2048, 2080, 2048, 2080, 2048, 2080, 2048, 2080, 2048, 2080, 2048, 2080, 2048, 2080, 2048, 2080, 2048, 2080, 2048, 2080, 2048, 2080, 2048, 2080, 2048, 2080, 2048, 2080, 2048, 2080, 2048, 2080, 2048, 2080, 2048, 2080, 2048, 2080, 2048, 2080, 2048, 2080, 2048, 2080, 2048, 2080, 2048, 2080, 2048, 2080, 2048, 2080, 2048, 2080, 2048, 2080, 2048, 2080, 2048, 2080, 2048, 2080, 2048, 2080, 2048, 2080, 2048, 2080, 2048, 2080, 2048, 2080, 2048, 2080, 2048, 2080, 2048, 2080, 2048, 2080, 2048, 2080, 2048, 2080, 2048, 2080, 2048, 2080, 2048, 2080, 2048, 2080, 2048, 2080, 2048, 2080, 2048, 2080, 2048, 2080, 2048, 2080, 2048, 2080, 2048, 2080, 2048, 2080, 2048, 2080, 2048, 2080, 2048, 2080, 2048, 2080, 2048, 2080, 2048, 2080, 2048, 2080, 2048, 2080, 2048, 2080, 2048, 2080, 2048, 2080, 2048, 2080, 2048, 2080, 2048, 2080, 2048, 2080, 2048, 2080, 2048, 2080, 2048, 2080, 2048, 2080, 2048, 2080, 2048, 2080, 2048, 2080, 2048, 2080, 2048, 2080, 2048, 2080, 2048, 2080, 2048, 2080, 2048, 2080, 2048, 2080, 2048, 2080, 2048, 2080, 2048, 2080, 2048, 2080, 2048, 2080, 2048, 2080, 2048, 2080, 2048, 2080, 2048, 2080, 2048, 2080, 2048, 2080, 2048, 2080, 2048, 2080, 2048, 2080, 2048, 2080, 2048, 2080, 2048, 2080, 2048, 2080, 2048, 2080, 2048, 2080, 2048, 2080, 2048, 2080, 2048, 2080, 2048, 2080, 2048, 2080, 2048, 2080, 2048, 2080, 2048, 2080, 2048, 2080, 2048, 2080, 2048, 2080, 2048, 2080, 2048, 2080, 2048, 2080, 2048, 2080, 2048, 2080, 2048, 2080, 2048, 2080, 2048, 2080, 2048, 2080, 2048, 2080, 2048, 2080, 2048, 2080, 2048, 2080, 2048, 2080, 2048, 2080, 2048, 2080, 2048, 2080, 2048, 2080, 2048, 2080, 2048, 2080, 2048, 2080, 2048, 2080, 2048, 2080, 2048, 2080, 2048, 2080, 2048, 2080, 2048, 2080, 2048, 2080, 2048, 2080, 2048, 2080, 2048, 2080, 2048, 2080, 2048, 2080, 2048, 2080, 2048, 2080, 2048, 2080, 2048, 2080, 2048, 2080, 2048, 2080, 2048, 2080, 2048, 2080, 2048, 2080, 2048, 2080, 2048, 2080, 2048, 2080, 2048, 2080, 2048, 2080, 2048, 2080, 2048, 2080, 2048, 2080, 2048, 2080, 2048, 2080, 2048, 2080, 2048, 2080, 2048, 2080, 2048, 2080, 2048, 2080, 2048, 2080, 2048, 2080, 2048, 2080, 2048, 2080, 2048, 2080, 2048, 2080, 2048, 2080, 2048, 2080, 2048, 2080, 2048, 2080, 2048, 2080, 2048, 2080, 2048, 2080, 2048, 2080, 2048, 2080, 2048, 2080, 2048, 2080, 2048, 2080, 2048, 2080, 2048, 2080, 2048, 2080, 2048, 2080, 2048, 2080, 2048, 2080, 2048, 2080, 2048, 2080, 2048, 2080, 2048, 2080, 2048, 2080, 2048, 2080, 2048, 2080, 2048, 2080, 2048, 2080, 2048, 2080, 2048, 2080, 2048, 2080, 2048, 2080, 2048, 2080, 2048, 2080, 2048, 2080, 2048, 2080, 2048, 2080, 2048, 2080, 2048, 2080, 2048, 2080, 2048, 2080, 2048, 2080, 2048, 2080, 2048, 2080, 2048, 2080, 2048, 2080, 2048, 2080, 2048, 2080, 2048, 2080, 2048, 2080, 2048, 2080, 2048, 2080, 2048, 2080, 2048, 2080, 2048, 2080, 2048, 2080, 2048, 2080, 2048, 2080, 2048, 2080, 2048, 2080, 2048, 2080, 2048, 2080, 2048, 2080, 2048, 2080, 2048, 2080, 2048, 2080, 2048, 2080, 2048, 2080, 2048, 2080, 2048, 2080, 2048, 2080, 2048, 2080, 2048, 2080, 2048, 2080, 2048, 2080, 2048, 2080, 2048, 2080, 2048, 2080, 2048, 2080, 2048, 2080, 2048, 2080, 2048, 2080, 2048, 2080, 2048, 2080, 2048, 2080, 2048, 2080, 2048, 2080, 2048, 2080, 2048, 2076, 2048, 2080, 2048, 2080, 2048, 2080, 2048, 2080, 2048, 2080, 2048, 2080, 2048, 2080, 2048, 2080, 2048, 2080, 2048, 2080, 2048, 2080, 2048, 2080, 2048, 2080, 2048, 2076, 2048, 2076, 2048, 2080, 2048, 2080, 2048, 2080, 2048, 2080, 2048, 2080, 2048, 2080, 2048, 2080, 2048, 2080, 2048, 2080, 2048, 2080, 2048, 2080, 2048, 2080, 2048, 2076, 2048, 2076, 2048, 2080, 2048, 2080, 2048, 2080, 2048, 2080, 2048, 2080, 2048, 2076, 2048, 2080, 2048, 2080, 2048, 2080, 2048, 2080, 2048, 2080, 2048, 2080, 2048, 2080, 2048, 2076, 2048, 2076, 2048, 2076, 2048, 2080, 2048, 2076, 2048, 2080, 2048, 2080, 2048, 2076, 2048, 2076, 2048, 2080, 2048, 2080, 2048, 2080, 2048, 2076, 2048, 2076, 2048, 2080, 2048, 2080, 2048, 2076, 2048, 2076, 2048, 2076, 2048, 2076, 2048, 2080, 2048, 2080, 2048, 2076, 2048, 2080, 2048, 2080, 2048, 2080, 2048, 2076, 2048, 2075, 2048, 2076, 2048, 2080, 2048, 2076, 2048, 2075, 2048, 2076, 2048, 2076, 2048, 2076, 2048, 2076, 2048, 2076, 2048, 2075, 2048, 2076, 2048, 2076, 2048, 2076, 2048, 2076, 2048, 2076, 2048, 2076, 2048, 2076, 2048, 2075, 2048, 2076, 2048, 2076, 2048, 2076, 2048, 2076, 2048, 2076, 2048, 2075, 2048, 2076, 2048, 2076, 2048, 2076, 2048, 2076, 2048, 2075, 2048, 2076, 2048, 2076, 2048, 2075, 2048, 2076, 2048, 2075, 2048, 2075, 2048, 2075, 2048, 2075, 2048, 2076, 2048, 2080, 2048, 2076, 2048, 2075, 2048, 2075, 2048, 2075, 2048, 2076, 2048, 2075, 2048, 2075, 2048, 2075, 2048, 2075, 2048, 2075, 2048, 2076, 2048, 2075, 2048, 2075, 2048, 2076, 2048, 2075, 2048, 2075, 2048, 2076, 2048, 2075, 2048, 2075, 2048, 2075, 2048, 2076, 2048, 2075, 2048, 2075, 2048, 2080, 2048, 2075, 2048, 2075, 2048, 2075, 2048, 2075, 2048, 2075, 2048, 2075, 2048, 2075, 2048, 2075, 2048, 2075, 2048, 2075, 2048, 2075, 2048, 2075, 2048, 2075, 2048, 2075, 2048, 2075, 2048, 2075, 2048, 2075, 2048, 2075, 2048, 2075, 2048, 2075, 2048, 2075, 2048, 2075, 2048, 2075, 2048, 2075, 2048, 2075, 2048, 2075, 2048, 2075, 2048, 2075, 2048, 2075, 2048, 2075, 2048, 2075, 2048, 2075, 2048, 2075, 2048, 2075, 2048, 2075, 2048, 2075, 2048, 2075, 2048, 2075, 2048, 2075, 2048, 2075, 2048, 2075, 2048, 2075, 2048, 2075, 2048, 2075, 2048, 2075, 2048, 2075, 2048, 2075, 2048, 2075, 2048, 2075, 2048, 2075, 2048, 2075, 2048, 2075, 2048, 2075, 2048, 2075, 2048, 2075, 2048, 2075, 2048, 2075, 2048, 2075, 2048, 2075, 2048, 2075, 2048, 2075, 2048, 2075, 2048, 2075, 2048, 2075, 2048, 2075, 2048, 2075, 2048, 2075, 2048, 2074, 2048, 2075, 2048, 2075, 2048, 2075, 2048, 2075, 2048, 2074, 2048, 2075, 2048, 2074, 2048, 2075, 2048, 2074, 2048, 2074, 2048, 2074, 2048, 2075, 2048, 2075, 2048, 2075, 2048, 2074, 2048, 2074, 2048, 2074, 2048, 2075, 2048, 2075, 2048, 2074, 2048, 2074, 2048, 2074, 2048, 2074, 2048, 2074, 2048, 2074, 2048, 2075, 2048, 2074, 2048, 2074, 2048, 2074, 2048, 2074, 2048, 2074, 2048, 2074, 2048, 2074, 2048, 2074, 2048, 2074, 2048, 2074, 2048, 2074, 2048, 2074, 2048, 2080, 2048, 2074, 2048, 2074, 2048, 2074, 2048, 2074, 2048, 2074, 2048, 2074, 2048, 2074, 2048, 2074, 2048, 2074, 2048, 2074, 2048, 2074, 2048, 2074, 2048, 2074, 2048, 2074, 2048, 2074, 2048, 2074, 2048, 2074, 2048, 2074, 2048, 2074, 2048, 2074, 2048, 2074, 2048, 2074, 2048, 2074, 2048, 2074, 2048, 2074, 2048, 2074, 2048, 2074, 2048, 2074, 2048, 2074, 2048, 2074, 2048, 2074, 2048, 2074, 2048, 2074, 2048, 2074, 2048, 2074, 2048, 2074, 2048, 2074, 2048, 2074, 2048, 2074, 2048, 2074, 2048, 2074, 2048, 2074, 2048, 2074, 2048, 2074, 2048, 2074, 2048, 2074, 2048, 2074, 2048, 2074, 2048, 2074, 2048, 2074]\n"
     ]
    }
   ],
   "source": [
    "file_path = 'Probanden/Alice5/002/24082016neu.edf'\n",
    "\n",
    "header = read_header(file_path)\n",
    "\n",
    "l = []\n",
    "for i, data_record in enumerate(read_data_records(file_path, header)):\n",
    "    imp = data_record[21]\n",
    "    \n",
    "    if i<30:\n",
    "        for j in imp:\n",
    "            l.append(j)\n",
    "            # print(len(l))\n",
    "print(l)"
   ]
  },
  {
   "cell_type": "code",
   "execution_count": 38,
   "id": "d8f325b9",
   "metadata": {},
   "outputs": [
    {
     "data": {
      "text/plain": [
       "(SignalHeader(label='EEG F3-A2', transducer_type='', physical_dimension='uV', physical_minimum=-300.0, physical_maximum=300.0, digital_minimum=0, digital_maximum=1023, prefiltering='', nr_of_samples_in_each_data_record=200, reserved=None),\n",
       " SignalHeader(label='EEG C3-A2', transducer_type='', physical_dimension='uV', physical_minimum=-300.0, physical_maximum=300.0, digital_minimum=0, digital_maximum=1023, prefiltering='', nr_of_samples_in_each_data_record=200, reserved=None),\n",
       " SignalHeader(label='EEG O1-A2', transducer_type='', physical_dimension='uV', physical_minimum=-300.0, physical_maximum=300.0, digital_minimum=0, digital_maximum=1023, prefiltering='', nr_of_samples_in_each_data_record=200, reserved=None),\n",
       " SignalHeader(label='EOG Right', transducer_type='', physical_dimension='uV', physical_minimum=-300.0, physical_maximum=300.0, digital_minimum=0, digital_maximum=255, prefiltering='', nr_of_samples_in_each_data_record=200, reserved=None),\n",
       " SignalHeader(label='EOG Left', transducer_type='', physical_dimension='uV', physical_minimum=-300.0, physical_maximum=300.0, digital_minimum=0, digital_maximum=255, prefiltering='', nr_of_samples_in_each_data_record=200, reserved=None),\n",
       " SignalHeader(label='EMG Chin', transducer_type='', physical_dimension='uV', physical_minimum=-78.0, physical_maximum=78.0, digital_minimum=0, digital_maximum=255, prefiltering='', nr_of_samples_in_each_data_record=200, reserved=None),\n",
       " SignalHeader(label='ECG I', transducer_type='', physical_dimension='uV', physical_minimum=-2200.0, physical_maximum=2200.0, digital_minimum=0, digital_maximum=4095, prefiltering='', nr_of_samples_in_each_data_record=200, reserved=None),\n",
       " SignalHeader(label='RR', transducer_type='', physical_dimension='', physical_minimum=0.0, physical_maximum=200.0, digital_minimum=0, digital_maximum=255, prefiltering='', nr_of_samples_in_each_data_record=10, reserved=None),\n",
       " SignalHeader(label='Flow Patient', transducer_type='Auxiliary Channel', physical_dimension='', physical_minimum=0.0, physical_maximum=4095.0, digital_minimum=0, digital_maximum=4095, prefiltering='', nr_of_samples_in_each_data_record=100, reserved=None),\n",
       " SignalHeader(label='Effort Tho', transducer_type='', physical_dimension='', physical_minimum=0.0, physical_maximum=4095.0, digital_minimum=0, digital_maximum=4095, prefiltering='', nr_of_samples_in_each_data_record=100, reserved=None),\n",
       " SignalHeader(label='Effort Abd', transducer_type='', physical_dimension='', physical_minimum=0.0, physical_maximum=4095.0, digital_minimum=0, digital_maximum=4095, prefiltering='', nr_of_samples_in_each_data_record=100, reserved=None),\n",
       " SignalHeader(label='Snore', transducer_type='', physical_dimension='', physical_minimum=0.0, physical_maximum=255.0, digital_minimum=0, digital_maximum=255, prefiltering='', nr_of_samples_in_each_data_record=500, reserved=None),\n",
       " SignalHeader(label='SpO2', transducer_type='', physical_dimension='%', physical_minimum=0.0, physical_maximum=102.3, digital_minimum=0, digital_maximum=1023, prefiltering='', nr_of_samples_in_each_data_record=1, reserved=None),\n",
       " SignalHeader(label='Pulse', transducer_type='', physical_dimension='', physical_minimum=0.0, physical_maximum=1023.0, digital_minimum=0, digital_maximum=1023, prefiltering='', nr_of_samples_in_each_data_record=1, reserved=None),\n",
       " SignalHeader(label='Leg BeinRe', transducer_type='', physical_dimension='uV', physical_minimum=-78.0, physical_maximum=78.0, digital_minimum=0, digital_maximum=255, prefiltering='', nr_of_samples_in_each_data_record=200, reserved=None),\n",
       " SignalHeader(label='Leg BeinLi', transducer_type='', physical_dimension='uV', physical_minimum=-78.0, physical_maximum=78.0, digital_minimum=0, digital_maximum=255, prefiltering='', nr_of_samples_in_each_data_record=200, reserved=None),\n",
       " SignalHeader(label='Body', transducer_type='', physical_dimension='', physical_minimum=0.0, physical_maximum=255.0, digital_minimum=0, digital_maximum=255, prefiltering='', nr_of_samples_in_each_data_record=1, reserved=None),\n",
       " SignalHeader(label='EEG F4-A1', transducer_type='', physical_dimension='uV', physical_minimum=-300.0, physical_maximum=300.0, digital_minimum=0, digital_maximum=1023, prefiltering='', nr_of_samples_in_each_data_record=200, reserved=None),\n",
       " SignalHeader(label='EEG A1-A2', transducer_type='', physical_dimension='uV', physical_minimum=-300.0, physical_maximum=300.0, digital_minimum=0, digital_maximum=1023, prefiltering='', nr_of_samples_in_each_data_record=200, reserved=None),\n",
       " SignalHeader(label='EEG C4-A1', transducer_type='', physical_dimension='uV', physical_minimum=-300.0, physical_maximum=300.0, digital_minimum=0, digital_maximum=1023, prefiltering='', nr_of_samples_in_each_data_record=200, reserved=None),\n",
       " SignalHeader(label='EEG O2-A1', transducer_type='', physical_dimension='uV', physical_minimum=-300.0, physical_maximum=300.0, digital_minimum=0, digital_maximum=1023, prefiltering='', nr_of_samples_in_each_data_record=200, reserved=None),\n",
       " SignalHeader(label='WP', transducer_type='', physical_dimension='V', physical_minimum=-3.501, physical_maximum=1.499, digital_minimum=0, digital_maximum=4095, prefiltering='', nr_of_samples_in_each_data_record=100, reserved=None),\n",
       " SignalHeader(label='Imp', transducer_type='', physical_dimension='', physical_minimum=0.0, physical_maximum=65535.0, digital_minimum=-32768, digital_maximum=32767, prefiltering='', nr_of_samples_in_each_data_record=200, reserved=None))"
      ]
     },
     "execution_count": 38,
     "metadata": {},
     "output_type": "execute_result"
    }
   ],
   "source": [
    "header.signals"
   ]
  },
  {
   "cell_type": "markdown",
   "id": "477632d0",
   "metadata": {},
   "source": [
    "def get_data_sections(file_path, kanal, diff):\n",
    "    header = read_header(file_path)\n",
    "\n",
    "    zaehler = 1\n",
    "    \n",
    "    \n",
    "    l = []\n",
    "    m = []\n",
    "    for i, data_record in enumerate(read_data_records(file_path, header)):\n",
    "        ecg = data_record[kanal]\n",
    "        # Eingrenzung auf 30 Sekunden nur für Entwicklungszwecke, schnellere Testung durch kleinen Datensatz\n",
    "        if i < diff_count(diff, zaehler):\n",
    "                #print(\"data record: \" + str(i))\n",
    "            for j in ecg:\n",
    "                    #ein ecg hat 256\n",
    "                l.append(j.tolist())\n",
    "        else : \n",
    "            if zaehler <= len(diff)+1:\n",
    "                m.append(l)\n",
    "                print(len(l))\n",
    "                zaehler = zaehler + 1\n",
    "                l = []\n",
    "                print(len(l))\n",
    "\n",
    "            for j in ecg:\n",
    "                        #ein ecg hat 256\n",
    "                l.append(j.tolist())\n",
    "                        #print(len(l))        \n",
    "   \n",
    "    return m\n",
    "\n",
    "def diff_count(diff, zaehler):\n",
    "    sum = 0\n",
    "    \n",
    "    if zaehler <= len(diff):\n",
    "        for i in range(zaehler):\n",
    "            #print(diff[i])\n",
    "            #if i<len(diff):\n",
    "            sum = sum + diff[i]\n",
    "        #print(\"zähler: \" + str(zaehler))\n",
    "        #print(\"Limit: \" + str(sum))    \n",
    "        \n",
    "    return sum  "
   ]
  },
  {
   "cell_type": "code",
   "execution_count": 22,
   "id": "eb55b806",
   "metadata": {},
   "outputs": [],
   "source": [
    "#Berechnung der Zeitdifferenz am Anfang"
   ]
  },
  {
   "cell_type": "code",
   "execution_count": 25,
   "id": "27dd0888",
   "metadata": {},
   "outputs": [
    {
     "name": "stdout",
     "output_type": "stream",
     "text": [
      "1900-01-01 23:24:59\n",
      "1900-01-01 23:24:30\n",
      "-29.0\n"
     ]
    }
   ],
   "source": [
    "startedf = header.starttime_of_recording\n",
    "startedfdate = pd.to_datetime(startedf, format='%H.%M.%S').time()\n",
    "time1 = datetime.strptime(header.starttime_of_recording,\"%H.%M.%S\") # convert string to time\n",
    "time2 = datetime.strptime(starthypno,\"%H:%M:%S\") # convert string to time\n",
    "#time3 = time(00, 34, 56)\n",
    "#print(time3)\n",
    "print(time1)\n",
    "print(time2)\n",
    "\n",
    "#time2 = datetime.strptime(b,\"%H%M\") \n",
    "diffe = time2 -time1\n",
    "#diffe.total_seconds()\n",
    "#duration =  starthypno - startedfdate\n",
    "print(diffe.total_seconds())"
   ]
  },
  {
   "cell_type": "code",
   "execution_count": 120,
   "id": "d45e776d",
   "metadata": {},
   "outputs": [
    {
     "name": "stdout",
     "output_type": "stream",
     "text": [
      "time1= 23:24:59\n",
      "time2= 23:24:30\n",
      "0:00:29\n"
     ]
    }
   ],
   "source": [
    "startedf = header.starttime_of_recording\n",
    "\n",
    "# DTF\n",
    "startedfdto = datetime.strptime(startedf, \"%H.%M.%S\")\n",
    "\n",
    "# hypno\n",
    "starthypnodto = datetime.strptime(starthypno, \"%H:%M:%S\")\n",
    "\n",
    "def get_absolute_time_diff(time1, time2, maxDeltaTime = timedelta(hours = 5)):\n",
    "    time1delta = timedelta(hours = time1.hour, minutes = time1.minute, seconds = time1.second)\n",
    "    time2delta = timedelta(hours = time2.hour, minutes = time2.minute, seconds = time2.second)\n",
    "    addDay = timedelta(days = 1)\n",
    "    \n",
    "    #debug\n",
    "    print(\"time1=\", time1delta)\n",
    "    print(\"time2=\", time2delta)\n",
    "    \n",
    "    absTime = abs(time1delta - time2delta)\n",
    " \n",
    "    if(absTime > maxDeltaTime):\n",
    "        return time2delta - time1delta + addDay\n",
    "    \n",
    "    return absTime\n",
    "\n",
    "def get_absolute_timedate_diff(timedate1, timedate2):\n",
    "    dateDiff = timedate1 - timedate2\n",
    "    \n",
    "    #debug\n",
    "    print(\"time1=\", timedate1)\n",
    "    print(\"time2=\", timedate2)\n",
    "    \n",
    "    if(dateDiff.days < 0):\n",
    "        return timedate2 - timedate1\n",
    "\n",
    "    return dateDiff;\n",
    "\n",
    "difference_between = get_absolute_time_diff(startedfdto, starthypnodto)\n",
    "print(difference_between)\n",
    "#print(get_absolute_time_diff(startedfdto, time(0, 34, 56)))\n",
    "\n",
    "#print(get_absolute_time_diff(time(11, 30, 25), time(12, 5, 56)))\n",
    "#print(get_absolute_time_diff(time(13, 30, 25), time(12, 5, 56)))\n",
    "\n",
    "# datetime(year, month, day, hour, minute, second, microsecond)\n",
    "\n",
    "# dt1 = datetime(2020,10,9,23,45,10)\n",
    "# dt2 = datetime(2020,10,10,0,22,22)\n",
    "# dt3 = datetime(2020,10,10,10,10,10)\n",
    "# print(get_absolute_timedate_diff(dt1,dt2))\n",
    "# print(get_absolute_timedate_diff(dt2,dt1))\n",
    "# print(get_absolute_timedate_diff(dt1,dt3))\n",
    "# print(get_absolute_timedate_diff(dt3,dt1))\n",
    "# print(get_absolute_timedate_diff(dt2,dt3))\n",
    "# print(get_absolute_timedate_diff(dt3,dt2))\n",
    "\n"
   ]
  },
  {
   "cell_type": "code",
   "execution_count": 95,
   "id": "a95acfc3",
   "metadata": {},
   "outputs": [],
   "source": [
    "def get_data_sections(file_path, kanal, diff):\n",
    "    header = read_header(file_path)\n",
    "\n",
    "    zaehler = 1\n",
    "    \n",
    "    \n",
    "    l = []\n",
    "    m = []\n",
    "    for i, data_record in enumerate(read_data_records(file_path, header)):\n",
    "        ecg = data_record[kanal]\n",
    "        \n",
    "        for j in ecg:\n",
    "                        #ein ecg hat 256\n",
    "            l.append(j.tolist())\n",
    "                        #print(len(l))  \n",
    "        if i >= diff_count(diff, zaehler)-1:\n",
    "            if zaehler <= len(diff):\n",
    "                m.append(l)\n",
    "                zaehler = zaehler + 1\n",
    "                l = []\n",
    "             \n",
    "    m.append(l)\n",
    "    return m\n",
    "\n",
    "def diff_count(diff, zaehler):\n",
    "    sum = 0\n",
    "    \n",
    "    if zaehler <= len(diff):\n",
    "        for i in range(zaehler):\n",
    "            sum = sum + diff[i]  \n",
    "        \n",
    "    return sum  "
   ]
  },
  {
   "cell_type": "code",
   "execution_count": null,
   "id": "b6dbaf76",
   "metadata": {},
   "outputs": [],
   "source": [
    "ecg_signal = get_data_sections(file_path,1,diff)\n",
    "#print(ecg_signal)"
   ]
  },
  {
   "cell_type": "code",
   "execution_count": null,
   "id": "8d16aae4",
   "metadata": {},
   "outputs": [],
   "source": [
    "print(len(diff))\n",
    "print(len(ecg_signal))"
   ]
  },
  {
   "cell_type": "code",
   "execution_count": null,
   "id": "407fba2d",
   "metadata": {},
   "outputs": [],
   "source": [
    "print(diff[1])\n",
    "print(len(ecg_signal[1])/256)"
   ]
  },
  {
   "cell_type": "code",
   "execution_count": null,
   "id": "f59f5c8d",
   "metadata": {},
   "outputs": [],
   "source": [
    "#print(ecg_signal[60])"
   ]
  },
  {
   "cell_type": "code",
   "execution_count": 37,
   "id": "b43aebce",
   "metadata": {},
   "outputs": [],
   "source": [
    "#convert edf-file to dataframe\n",
    "ecg_signal = hb.get_data(file_path, 6)\n",
    "data = pd.DataFrame(ecg_signal, columns=['heart'])"
   ]
  },
  {
   "cell_type": "code",
   "execution_count": 38,
   "id": "b9292bf9",
   "metadata": {},
   "outputs": [
    {
     "name": "stdout",
     "output_type": "stream",
     "text": [
      "0        1010\n",
      "1        1080\n",
      "2        1000\n",
      "3        1005\n",
      "4         979\n",
      "         ... \n",
      "15355     672\n",
      "15356     795\n",
      "15357     641\n",
      "15358    -115\n",
      "15359    -854\n",
      "Name: heart, Length: 15360, dtype: int64\n"
     ]
    }
   ],
   "source": [
    "print(data['heart'])"
   ]
  },
  {
   "cell_type": "code",
   "execution_count": null,
   "id": "9eefd5ac",
   "metadata": {},
   "outputs": [],
   "source": [
    "#header = read_header(file_path)\n",
    "\n",
    "\n",
    "\n",
    "#for i, data_record in enumerate(read_data_records(file_path, header)):\n",
    "       #print(data_record[1])\n",
    "#print(ecg)\n"
   ]
  },
  {
   "cell_type": "code",
   "execution_count": 34,
   "id": "5288f629",
   "metadata": {},
   "outputs": [
    {
     "name": "stdout",
     "output_type": "stream",
     "text": [
      "256\n"
     ]
    }
   ],
   "source": [
    "#convert edf-file to dataframe\n",
    "ecg_signal = hb.get_data_with_records(file_path, 6)\n",
    "#data = pd.DataFrame(ecg_signal, columns=['heart'])\n",
    "#print(ecg_signal[0][1])\n",
    "print(len(ecg_signal))"
   ]
  },
  {
   "cell_type": "code",
   "execution_count": 41,
   "id": "0cbc3e1c",
   "metadata": {},
   "outputs": [],
   "source": [
    "#switch ecg-signal \n",
    "data[\"heart\"] = data[\"heart\"]* -1"
   ]
  },
  {
   "cell_type": "code",
   "execution_count": 35,
   "id": "b6ae62ab",
   "metadata": {},
   "outputs": [
    {
     "data": {
      "text/plain": [
       "0        -801\n",
       "1        -812\n",
       "2        -882\n",
       "3        -995\n",
       "4       -1119\n",
       "         ... \n",
       "15355    1796\n",
       "15356    1731\n",
       "15357    1762\n",
       "15358    1857\n",
       "15359    1966\n",
       "Name: heart, Length: 15360, dtype: int64"
      ]
     },
     "execution_count": 35,
     "metadata": {},
     "output_type": "execute_result"
    }
   ],
   "source": [
    "data[\"heart\"]"
   ]
  },
  {
   "cell_type": "code",
   "execution_count": 27,
   "id": "d16b8572",
   "metadata": {},
   "outputs": [
    {
     "name": "stdout",
     "output_type": "stream",
     "text": [
      "E1:M2\n",
      "E2:M2\n",
      "F4:M1\n",
      "C4:M1\n",
      "O2:M1\n",
      "EMG\n",
      "ECG 2\n",
      "PLM l\n",
      "PLM r\n",
      "Schnarch.\n",
      "Druck Snore\n",
      "Druck Flow\n",
      "Flow Th\n",
      "RIP.Thrx\n",
      "RIP.Abdom\n",
      "SPO2\n",
      "Puls\n",
      "Lage\n",
      "Pleth\n",
      "E1\n",
      "E2\n",
      "E1:M1\n",
      "E2:M1\n",
      "F4\n",
      "C4\n",
      "M1\n",
      "M2\n",
      "O2\n",
      "EMG+\n",
      "EMG-\n",
      "Licht\n",
      "Akku\n",
      "Beweg.\n",
      "Summe RIPs\n",
      "EDF Annotations\n",
      "Sampling : 256Hz\n"
     ]
    }
   ],
   "source": [
    "#get information about channels and samplingrate\n",
    "daten = hb.sampling_frequency(file_path)"
   ]
  },
  {
   "cell_type": "code",
   "execution_count": 28,
   "id": "dae6ef58",
   "metadata": {
    "scrolled": true
   },
   "outputs": [
    {
     "data": {
      "image/png": "[encoded data removed]",
      "text/plain": [
       "<Figure size 1080x648 with 1 Axes>"
      ]
     },
     "metadata": {
      "needs_background": "light"
     },
     "output_type": "display_data"
    }
   ],
   "source": [
    "#detect the peaks and rr-intervalls on original signal\n",
    "peaks, info = nk.ecg_peaks(data[\"heart\"], sampling_rate=256)\n",
    "hrv_time = nk.hrv_time(peaks, sampling_rate=256, show=True)"
   ]
  },
  {
   "cell_type": "code",
   "execution_count": 29,
   "id": "33e8c737",
   "metadata": {
    "scrolled": true
   },
   "outputs": [
    {
     "name": "stderr",
     "output_type": "stream",
     "text": [
      "C:\\Users\\smend\\anaconda3\\lib\\site-packages\\numpy\\core\\fromnumeric.py:3372: RuntimeWarning: Mean of empty slice.\n",
      "  return _methods._mean(a, axis=axis, dtype=dtype,\n",
      "C:\\Users\\smend\\anaconda3\\lib\\site-packages\\numpy\\core\\_methods.py:170: RuntimeWarning: invalid value encountered in double_scalars\n",
      "  ret = ret.dtype.type(ret / rcount)\n",
      "C:\\Users\\smend\\anaconda3\\lib\\site-packages\\numpy\\lib\\nanfunctions.py:1664: RuntimeWarning: Degrees of freedom <= 0 for slice.\n",
      "  var = nanvar(a, axis=axis, dtype=dtype, out=out, ddof=ddof,\n"
     ]
    },
    {
     "ename": "ValueError",
     "evalue": "`dataset` input should have multiple elements.",
     "output_type": "error",
     "traceback": [
      "\u001b[1;31m---------------------------------------------------------------------------\u001b[0m",
      "\u001b[1;31mValueError\u001b[0m                                Traceback (most recent call last)",
      "\u001b[1;32m<ipython-input-29-3b7111861ad6>\u001b[0m in \u001b[0;36m<module>\u001b[1;34m\u001b[0m\n\u001b[0;32m      4\u001b[0m \u001b[1;33m\u001b[0m\u001b[0m\n\u001b[0;32m      5\u001b[0m \u001b[0mpeaks\u001b[0m\u001b[1;33m,\u001b[0m \u001b[0minfo\u001b[0m \u001b[1;33m=\u001b[0m \u001b[0mnk\u001b[0m\u001b[1;33m.\u001b[0m\u001b[0mecg_peaks\u001b[0m\u001b[1;33m(\u001b[0m\u001b[0mfilteredsignal\u001b[0m\u001b[1;33m,\u001b[0m \u001b[0mmethod\u001b[0m\u001b[1;33m=\u001b[0m\u001b[1;34m\"martinez2003\"\u001b[0m\u001b[1;33m,\u001b[0m \u001b[0msampling_rate\u001b[0m\u001b[1;33m=\u001b[0m\u001b[1;36m256\u001b[0m\u001b[1;33m)\u001b[0m\u001b[1;33m\u001b[0m\u001b[1;33m\u001b[0m\u001b[0m\n\u001b[1;32m----> 6\u001b[1;33m \u001b[0mhrv_time\u001b[0m \u001b[1;33m=\u001b[0m \u001b[0mnk\u001b[0m\u001b[1;33m.\u001b[0m\u001b[0mhrv_time\u001b[0m\u001b[1;33m(\u001b[0m\u001b[0mpeaks\u001b[0m\u001b[1;33m,\u001b[0m \u001b[0msampling_rate\u001b[0m\u001b[1;33m=\u001b[0m\u001b[1;36m256\u001b[0m\u001b[1;33m,\u001b[0m \u001b[0mshow\u001b[0m\u001b[1;33m=\u001b[0m\u001b[1;32mTrue\u001b[0m\u001b[1;33m)\u001b[0m\u001b[1;33m\u001b[0m\u001b[1;33m\u001b[0m\u001b[0m\n\u001b[0m",
      "\u001b[1;32m~\\anaconda3\\lib\\site-packages\\neurokit2\\hrv\\hrv_time.py\u001b[0m in \u001b[0;36mhrv_time\u001b[1;34m(peaks, sampling_rate, show, **kwargs)\u001b[0m\n\u001b[0;32m    123\u001b[0m \u001b[1;33m\u001b[0m\u001b[0m\n\u001b[0;32m    124\u001b[0m     \u001b[1;32mif\u001b[0m \u001b[0mshow\u001b[0m\u001b[1;33m:\u001b[0m\u001b[1;33m\u001b[0m\u001b[1;33m\u001b[0m\u001b[0m\n\u001b[1;32m--> 125\u001b[1;33m         \u001b[0m_hrv_time_show\u001b[0m\u001b[1;33m(\u001b[0m\u001b[0mrri\u001b[0m\u001b[1;33m,\u001b[0m \u001b[1;33m**\u001b[0m\u001b[0mkwargs\u001b[0m\u001b[1;33m)\u001b[0m\u001b[1;33m\u001b[0m\u001b[1;33m\u001b[0m\u001b[0m\n\u001b[0m\u001b[0;32m    126\u001b[0m \u001b[1;33m\u001b[0m\u001b[0m\n\u001b[0;32m    127\u001b[0m     \u001b[0mout\u001b[0m \u001b[1;33m=\u001b[0m \u001b[0mpd\u001b[0m\u001b[1;33m.\u001b[0m\u001b[0mDataFrame\u001b[0m\u001b[1;33m.\u001b[0m\u001b[0mfrom_dict\u001b[0m\u001b[1;33m(\u001b[0m\u001b[0mout\u001b[0m\u001b[1;33m,\u001b[0m \u001b[0morient\u001b[0m\u001b[1;33m=\u001b[0m\u001b[1;34m\"index\"\u001b[0m\u001b[1;33m)\u001b[0m\u001b[1;33m.\u001b[0m\u001b[0mT\u001b[0m\u001b[1;33m.\u001b[0m\u001b[0madd_prefix\u001b[0m\u001b[1;33m(\u001b[0m\u001b[1;34m\"HRV_\"\u001b[0m\u001b[1;33m)\u001b[0m\u001b[1;33m\u001b[0m\u001b[1;33m\u001b[0m\u001b[0m\n",
      "\u001b[1;32m~\\anaconda3\\lib\\site-packages\\neurokit2\\hrv\\hrv_time.py\u001b[0m in \u001b[0;36m_hrv_time_show\u001b[1;34m(rri, **kwargs)\u001b[0m\n\u001b[0;32m    131\u001b[0m \u001b[1;32mdef\u001b[0m \u001b[0m_hrv_time_show\u001b[0m\u001b[1;33m(\u001b[0m\u001b[0mrri\u001b[0m\u001b[1;33m,\u001b[0m \u001b[1;33m**\u001b[0m\u001b[0mkwargs\u001b[0m\u001b[1;33m)\u001b[0m\u001b[1;33m:\u001b[0m\u001b[1;33m\u001b[0m\u001b[1;33m\u001b[0m\u001b[0m\n\u001b[0;32m    132\u001b[0m \u001b[1;33m\u001b[0m\u001b[0m\n\u001b[1;32m--> 133\u001b[1;33m     \u001b[0mfig\u001b[0m \u001b[1;33m=\u001b[0m \u001b[0msummary_plot\u001b[0m\u001b[1;33m(\u001b[0m\u001b[0mrri\u001b[0m\u001b[1;33m,\u001b[0m \u001b[1;33m**\u001b[0m\u001b[0mkwargs\u001b[0m\u001b[1;33m)\u001b[0m\u001b[1;33m\u001b[0m\u001b[1;33m\u001b[0m\u001b[0m\n\u001b[0m\u001b[0;32m    134\u001b[0m     \u001b[0mplt\u001b[0m\u001b[1;33m.\u001b[0m\u001b[0mxlabel\u001b[0m\u001b[1;33m(\u001b[0m\u001b[1;34m\"R-R intervals (ms)\"\u001b[0m\u001b[1;33m)\u001b[0m\u001b[1;33m\u001b[0m\u001b[1;33m\u001b[0m\u001b[0m\n\u001b[0;32m    135\u001b[0m     \u001b[0mfig\u001b[0m\u001b[1;33m.\u001b[0m\u001b[0msuptitle\u001b[0m\u001b[1;33m(\u001b[0m\u001b[1;34m\"Distribution of R-R intervals\"\u001b[0m\u001b[1;33m)\u001b[0m\u001b[1;33m\u001b[0m\u001b[1;33m\u001b[0m\u001b[0m\n",
      "\u001b[1;32m~\\anaconda3\\lib\\site-packages\\neurokit2\\stats\\summary.py\u001b[0m in \u001b[0;36msummary_plot\u001b[1;34m(x, errorbars, **kwargs)\u001b[0m\n\u001b[0;32m     40\u001b[0m \u001b[1;33m\u001b[0m\u001b[0m\n\u001b[0;32m     41\u001b[0m     \u001b[1;31m# Density\u001b[0m\u001b[1;33m\u001b[0m\u001b[1;33m\u001b[0m\u001b[1;33m\u001b[0m\u001b[0m\n\u001b[1;32m---> 42\u001b[1;33m     \u001b[0mx_axis\u001b[0m\u001b[1;33m,\u001b[0m \u001b[0my_axis\u001b[0m \u001b[1;33m=\u001b[0m \u001b[0mdensity\u001b[0m\u001b[1;33m(\u001b[0m\u001b[0mx\u001b[0m\u001b[1;33m,\u001b[0m \u001b[1;33m**\u001b[0m\u001b[0mkwargs\u001b[0m\u001b[1;33m)\u001b[0m\u001b[1;33m\u001b[0m\u001b[1;33m\u001b[0m\u001b[0m\n\u001b[0m\u001b[0;32m     43\u001b[0m     \u001b[0my_axis\u001b[0m \u001b[1;33m=\u001b[0m \u001b[0mrescale\u001b[0m\u001b[1;33m(\u001b[0m\u001b[0my_axis\u001b[0m\u001b[1;33m,\u001b[0m \u001b[0mto\u001b[0m\u001b[1;33m=\u001b[0m\u001b[1;33m[\u001b[0m\u001b[1;36m0\u001b[0m\u001b[1;33m,\u001b[0m \u001b[0mnp\u001b[0m\u001b[1;33m.\u001b[0m\u001b[0mmax\u001b[0m\u001b[1;33m(\u001b[0m\u001b[0mcounts\u001b[0m\u001b[1;33m)\u001b[0m\u001b[1;33m]\u001b[0m\u001b[1;33m)\u001b[0m\u001b[1;33m\u001b[0m\u001b[1;33m\u001b[0m\u001b[0m\n\u001b[0;32m     44\u001b[0m     \u001b[0max\u001b[0m\u001b[1;33m.\u001b[0m\u001b[0mplot\u001b[0m\u001b[1;33m(\u001b[0m\u001b[0mx_axis\u001b[0m\u001b[1;33m,\u001b[0m \u001b[0my_axis\u001b[0m\u001b[1;33m,\u001b[0m \u001b[0mcolor\u001b[0m\u001b[1;33m=\u001b[0m\u001b[1;34m\"#E91E63\"\u001b[0m\u001b[1;33m,\u001b[0m \u001b[0mlinewidth\u001b[0m\u001b[1;33m=\u001b[0m\u001b[1;36m1.5\u001b[0m\u001b[1;33m,\u001b[0m \u001b[0mzorder\u001b[0m\u001b[1;33m=\u001b[0m\u001b[1;36m2\u001b[0m\u001b[1;33m,\u001b[0m \u001b[1;33m**\u001b[0m\u001b[0mkwargs\u001b[0m\u001b[1;33m)\u001b[0m\u001b[1;33m\u001b[0m\u001b[1;33m\u001b[0m\u001b[0m\n",
      "\u001b[1;32m~\\anaconda3\\lib\\site-packages\\neurokit2\\stats\\density.py\u001b[0m in \u001b[0;36mdensity\u001b[1;34m(x, desired_length, bandwith, show)\u001b[0m\n\u001b[0;32m     42\u001b[0m \u001b[1;33m\u001b[0m\u001b[0m\n\u001b[0;32m     43\u001b[0m     \"\"\"\n\u001b[1;32m---> 44\u001b[1;33m     \u001b[0mdensity_function\u001b[0m \u001b[1;33m=\u001b[0m \u001b[0mscipy\u001b[0m\u001b[1;33m.\u001b[0m\u001b[0mstats\u001b[0m\u001b[1;33m.\u001b[0m\u001b[0mgaussian_kde\u001b[0m\u001b[1;33m(\u001b[0m\u001b[0mx\u001b[0m\u001b[1;33m,\u001b[0m \u001b[0mbw_method\u001b[0m\u001b[1;33m=\u001b[0m\u001b[1;34m\"scott\"\u001b[0m\u001b[1;33m)\u001b[0m\u001b[1;33m\u001b[0m\u001b[1;33m\u001b[0m\u001b[0m\n\u001b[0m\u001b[0;32m     45\u001b[0m     \u001b[0mdensity_function\u001b[0m\u001b[1;33m.\u001b[0m\u001b[0mset_bandwidth\u001b[0m\u001b[1;33m(\u001b[0m\u001b[0mbw_method\u001b[0m\u001b[1;33m=\u001b[0m\u001b[0mdensity_function\u001b[0m\u001b[1;33m.\u001b[0m\u001b[0mfactor\u001b[0m \u001b[1;33m/\u001b[0m \u001b[0mbandwith\u001b[0m\u001b[1;33m)\u001b[0m\u001b[1;33m\u001b[0m\u001b[1;33m\u001b[0m\u001b[0m\n\u001b[0;32m     46\u001b[0m \u001b[1;33m\u001b[0m\u001b[0m\n",
      "\u001b[1;32m~\\anaconda3\\lib\\site-packages\\scipy\\stats\\kde.py\u001b[0m in \u001b[0;36m__init__\u001b[1;34m(self, dataset, bw_method, weights)\u001b[0m\n\u001b[0;32m    191\u001b[0m         \u001b[0mself\u001b[0m\u001b[1;33m.\u001b[0m\u001b[0mdataset\u001b[0m \u001b[1;33m=\u001b[0m \u001b[0matleast_2d\u001b[0m\u001b[1;33m(\u001b[0m\u001b[0masarray\u001b[0m\u001b[1;33m(\u001b[0m\u001b[0mdataset\u001b[0m\u001b[1;33m)\u001b[0m\u001b[1;33m)\u001b[0m\u001b[1;33m\u001b[0m\u001b[1;33m\u001b[0m\u001b[0m\n\u001b[0;32m    192\u001b[0m         \u001b[1;32mif\u001b[0m \u001b[1;32mnot\u001b[0m \u001b[0mself\u001b[0m\u001b[1;33m.\u001b[0m\u001b[0mdataset\u001b[0m\u001b[1;33m.\u001b[0m\u001b[0msize\u001b[0m \u001b[1;33m>\u001b[0m \u001b[1;36m1\u001b[0m\u001b[1;33m:\u001b[0m\u001b[1;33m\u001b[0m\u001b[1;33m\u001b[0m\u001b[0m\n\u001b[1;32m--> 193\u001b[1;33m             \u001b[1;32mraise\u001b[0m \u001b[0mValueError\u001b[0m\u001b[1;33m(\u001b[0m\u001b[1;34m\"`dataset` input should have multiple elements.\"\u001b[0m\u001b[1;33m)\u001b[0m\u001b[1;33m\u001b[0m\u001b[1;33m\u001b[0m\u001b[0m\n\u001b[0m\u001b[0;32m    194\u001b[0m \u001b[1;33m\u001b[0m\u001b[0m\n\u001b[0;32m    195\u001b[0m         \u001b[0mself\u001b[0m\u001b[1;33m.\u001b[0m\u001b[0md\u001b[0m\u001b[1;33m,\u001b[0m \u001b[0mself\u001b[0m\u001b[1;33m.\u001b[0m\u001b[0mn\u001b[0m \u001b[1;33m=\u001b[0m \u001b[0mself\u001b[0m\u001b[1;33m.\u001b[0m\u001b[0mdataset\u001b[0m\u001b[1;33m.\u001b[0m\u001b[0mshape\u001b[0m\u001b[1;33m\u001b[0m\u001b[1;33m\u001b[0m\u001b[0m\n",
      "\u001b[1;31mValueError\u001b[0m: `dataset` input should have multiple elements."
     ]
    },
    {
     "data": {
      "image/png": "[encoded data removed]",
      "text/plain": [
       "<Figure size 1080x648 with 1 Axes>"
      ]
     },
     "metadata": {
      "needs_background": "light"
     },
     "output_type": "display_data"
    }
   ],
   "source": [
    "#detect the peaks and rr-intervalls on double-filtered signal\n",
    "filteredsignalone = nk.signal_filter(data[\"heart\"], lowcut=0.5, highcut=20, sampling_rate=256, method='butterworth', order=2)\n",
    "filteredsignal = nk.signal_filter(filteredsignalone, lowcut=0.5, highcut=20, sampling_rate=256, method='butterworth', order=2)\n",
    "\n",
    "peaks, info = nk.ecg_peaks(filteredsignal, method=\"martinez2003\", sampling_rate=256)\n",
    "hrv_time = nk.hrv_time(peaks, sampling_rate=256, show=True)"
   ]
  },
  {
   "cell_type": "code",
   "execution_count": null,
   "id": "ebd97317",
   "metadata": {},
   "outputs": [],
   "source": []
  },
  {
   "cell_type": "code",
   "execution_count": null,
   "id": "496fda7a",
   "metadata": {},
   "outputs": [],
   "source": [
    "#print hrv time domain data\n",
    "hrv_time"
   ]
  },
  {
   "cell_type": "code",
   "execution_count": null,
   "id": "d39e72a7",
   "metadata": {},
   "outputs": [],
   "source": [
    "#print and calculate rr_interval \n",
    "rri = _hrv_get_rri(info[\"ECG_R_Peaks\"], sampling_rate=256, interpolate=False)\n",
    "info[\"ECG_R_Peaks\"], rri"
   ]
  },
  {
   "cell_type": "code",
   "execution_count": null,
   "id": "bc1d4502",
   "metadata": {
    "scrolled": true
   },
   "outputs": [],
   "source": [
    "#print and calculate rr_interval \n",
    "rri = _hrv_get_rri(info[\"ECG_R_Peaks\"], sampling_rate=256, interpolate=False)\n",
    "info[\"ECG_R_Peaks\"], rri"
   ]
  },
  {
   "cell_type": "code",
   "execution_count": null,
   "id": "6e42fe80",
   "metadata": {},
   "outputs": [],
   "source": []
  },
  {
   "cell_type": "code",
   "execution_count": null,
   "id": "6b8f47df",
   "metadata": {},
   "outputs": [],
   "source": [
    "#print and calculate hrv frequencies\n",
    "hrv_freq = nk.hrv_frequency(info[\"ECG_R_Peaks\"], sampling_rate=256, show=True)\n",
    "hrv_freq"
   ]
  },
  {
   "cell_type": "code",
   "execution_count": 42,
   "id": "31a80693",
   "metadata": {
    "scrolled": true
   },
   "outputs": [
    {
     "data": {
      "image/png": "[encoded data removed]",
      "text/plain": [
       "<Figure size 1080x648 with 1 Axes>"
      ]
     },
     "metadata": {
      "needs_background": "light"
     },
     "output_type": "display_data"
    }
   ],
   "source": [
    "#plot original signal\n",
    "plt.title(\"Heart Rate Signal\") #The title of our plot\n",
    "plt.plot(data.heart) #Draw the plot object\n",
    "plt.xlim(0,1000)\n",
    "plt.show() #Display the plot"
   ]
  },
  {
   "cell_type": "code",
   "execution_count": 31,
   "id": "ab2f1500",
   "metadata": {},
   "outputs": [],
   "source": [
    "#detect peaks in filteredsignal\n",
    "rpeak = info['ECG_R_Peaks']\n",
    "ybeat = [filteredsignal[x] for x in rpeak]\n"
   ]
  },
  {
   "cell_type": "code",
   "execution_count": 32,
   "id": "385a0c79",
   "metadata": {
    "scrolled": true
   },
   "outputs": [
    {
     "data": {
      "image/png": "[encoded data removed]",
      "text/plain": [
       "<Figure size 1080x648 with 1 Axes>"
      ]
     },
     "metadata": {
      "needs_background": "light"
     },
     "output_type": "display_data"
    }
   ],
   "source": [
    "#plot filtered signal and peaks\n",
    "plt.title(\"Detected peaks in signal\")\n",
    "plt.xlim(10000,12000)\n",
    "plt.plot(filteredsignal, alpha=0.5, color='blue') #Plot semi-transparent HR\n",
    "plt.scatter(rpeak,ybeat, color='red') #Plot detected peaks\n",
    "plt.show()"
   ]
  },
  {
   "cell_type": "code",
   "execution_count": 1,
   "id": "17a0787e",
   "metadata": {},
   "outputs": [
    {
     "ename": "NameError",
     "evalue": "name 'nk' is not defined",
     "output_type": "error",
     "traceback": [
      "\u001b[1;31m---------------------------------------------------------------------------\u001b[0m",
      "\u001b[1;31mNameError\u001b[0m                                 Traceback (most recent call last)",
      "\u001b[1;32m<ipython-input-1-c2135e8e948a>\u001b[0m in \u001b[0;36m<module>\u001b[1;34m\u001b[0m\n\u001b[1;32m----> 1\u001b[1;33m \u001b[0mfiltered\u001b[0m \u001b[1;33m=\u001b[0m \u001b[0mnk\u001b[0m\u001b[1;33m.\u001b[0m\u001b[0msignal_filter\u001b[0m\u001b[1;33m(\u001b[0m\u001b[0mdata\u001b[0m\u001b[1;33m[\u001b[0m\u001b[1;34m\"heart\"\u001b[0m\u001b[1;33m]\u001b[0m\u001b[1;33m,\u001b[0m \u001b[0mlowcut\u001b[0m\u001b[1;33m=\u001b[0m\u001b[1;36m0.5\u001b[0m\u001b[1;33m,\u001b[0m \u001b[0mhighcut\u001b[0m\u001b[1;33m=\u001b[0m\u001b[1;36m20\u001b[0m\u001b[1;33m,\u001b[0m \u001b[0msampling_rate\u001b[0m\u001b[1;33m=\u001b[0m\u001b[1;36m256\u001b[0m\u001b[1;33m,\u001b[0m \u001b[0mmethod\u001b[0m\u001b[1;33m=\u001b[0m\u001b[1;34m'butterworth'\u001b[0m\u001b[1;33m,\u001b[0m \u001b[0morder\u001b[0m\u001b[1;33m=\u001b[0m\u001b[1;36m2\u001b[0m\u001b[1;33m)\u001b[0m\u001b[1;33m\u001b[0m\u001b[1;33m\u001b[0m\u001b[0m\n\u001b[0m\u001b[0;32m      2\u001b[0m \u001b[0mplt\u001b[0m\u001b[1;33m.\u001b[0m\u001b[0mtitle\u001b[0m\u001b[1;33m(\u001b[0m\u001b[1;34m\"Detected peaks in signal\"\u001b[0m\u001b[1;33m)\u001b[0m\u001b[1;33m\u001b[0m\u001b[1;33m\u001b[0m\u001b[0m\n\u001b[0;32m      3\u001b[0m \u001b[0mplt\u001b[0m\u001b[1;33m.\u001b[0m\u001b[0mxlim\u001b[0m\u001b[1;33m(\u001b[0m\u001b[1;36m0\u001b[0m\u001b[1;33m,\u001b[0m\u001b[1;36m2000\u001b[0m\u001b[1;33m)\u001b[0m\u001b[1;33m\u001b[0m\u001b[1;33m\u001b[0m\u001b[0m\n\u001b[0;32m      4\u001b[0m \u001b[0mplt\u001b[0m\u001b[1;33m.\u001b[0m\u001b[0mplot\u001b[0m\u001b[1;33m(\u001b[0m\u001b[0mfiltered\u001b[0m\u001b[1;33m,\u001b[0m \u001b[0malpha\u001b[0m\u001b[1;33m=\u001b[0m\u001b[1;36m0.5\u001b[0m\u001b[1;33m,\u001b[0m \u001b[0mcolor\u001b[0m\u001b[1;33m=\u001b[0m\u001b[1;34m'blue'\u001b[0m\u001b[1;33m)\u001b[0m \u001b[1;31m#Plot semi-transparent HR\u001b[0m\u001b[1;33m\u001b[0m\u001b[1;33m\u001b[0m\u001b[0m\n\u001b[0;32m      5\u001b[0m \u001b[0mplt\u001b[0m\u001b[1;33m.\u001b[0m\u001b[0mscatter\u001b[0m\u001b[1;33m(\u001b[0m\u001b[0mrpeak\u001b[0m\u001b[1;33m,\u001b[0m\u001b[0mybeat\u001b[0m\u001b[1;33m,\u001b[0m \u001b[0mcolor\u001b[0m\u001b[1;33m=\u001b[0m\u001b[1;34m'red'\u001b[0m\u001b[1;33m)\u001b[0m \u001b[1;31m#Plot detected peaks\u001b[0m\u001b[1;33m\u001b[0m\u001b[1;33m\u001b[0m\u001b[0m\n",
      "\u001b[1;31mNameError\u001b[0m: name 'nk' is not defined"
     ]
    }
   ],
   "source": [
    "filtered = nk.signal_filter(data[\"heart\"], lowcut=0.5, highcut=20, sampling_rate=256, method='butterworth', order=2)\n",
    "plt.title(\"Detected peaks in signal\")\n",
    "plt.xlim(0,2000)\n",
    "plt.plot(filtered, alpha=0.5, color='blue') #Plot semi-transparent HR\n",
    "plt.scatter(rpeak,ybeat, color='red') #Plot detected peaks\n",
    "plt.show()"
   ]
  },
  {
   "cell_type": "code",
   "execution_count": null,
   "id": "ac2e7311",
   "metadata": {
    "scrolled": true
   },
   "outputs": [],
   "source": [
    "# Process ecg\n",
    "ecg_signals, info = nk.ecg_process(data[\"heart\"],method=\"neurokit\", sampling_rate=256)\n",
    "plot = nk.ecg_plot(ecg_signals[:1000], sampling_rate=256)"
   ]
  },
  {
   "cell_type": "code",
   "execution_count": null,
   "id": "ab142d20",
   "metadata": {},
   "outputs": [],
   "source": [
    "print(len(data['heart']))"
   ]
  },
  {
   "cell_type": "code",
   "execution_count": null,
   "id": "47889478",
   "metadata": {},
   "outputs": [],
   "source": [
    "# Half the data\n",
    "epochs = nk.epochs_create(ecg_signals, events=[0, 143401], sampling_rate=200, epochs_start=0, epochs_end=143.401)"
   ]
  },
  {
   "cell_type": "code",
   "execution_count": null,
   "id": "1bf783df",
   "metadata": {},
   "outputs": [],
   "source": []
  }
 ],
 "metadata": {
  "kernelspec": {
   "display_name": "Python 3",
   "language": "python",
   "name": "python3"
  },
  "language_info": {
   "codemirror_mode": {
    "name": "ipython",
    "version": 3
   },
   "file_extension": ".py",
   "mimetype": "text/x-python",
   "name": "python",
   "nbconvert_exporter": "python",
   "pygments_lexer": "ipython3",
   "version": "3.6.9"
  }
 },
 "nbformat": 4,
 "nbformat_minor": 5
}
